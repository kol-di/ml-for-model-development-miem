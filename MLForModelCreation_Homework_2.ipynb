{
  "cells": [
    {
      "cell_type": "markdown",
      "metadata": {
        "id": "pcsmXyl7Pv0v"
      },
      "source": [
        "## Домашняя работа 2\n"
      ]
    },
    {
      "cell_type": "markdown",
      "metadata": {
        "id": "-K8kV9Q3Pv0w"
      },
      "source": [
        "## Данные\n",
        "\n",
        "\n",
        "В этой домашней работе мы будем обучать модели машинного обучения, ставить эксперименты, подбирать гиперпараметры, сравнивать и смешивать модели. Вам предлагается решить задачу бинарной классификации, а именно построить алгоритм, определяющий превысит ли средний заработок человека порог $50k. Каждый объект выборки — человек, для которого известны следующие признаки:\n",
        " - age\n",
        " - workclass\n",
        " - fnlwgt\n",
        " - education\n",
        " - education-num\n",
        " - marital-status\n",
        " - occupation\n",
        " - relationship\n",
        " - race\n",
        " - sex\n",
        " - capital-gain\n",
        " - capital-loss\n",
        " - hours-per-week\n",
        "\n",
        "Более подробно про признаки можно почитать [здесь](http://archive.ics.uci.edu/ml/machine-learning-databases/adult/adult.names). Целевой признак записан в переменной *>50K,<=50K*."
      ]
    },
    {
      "cell_type": "markdown",
      "metadata": {
        "id": "gLMYUYXyPv0x"
      },
      "source": [
        "## Метрика качества\n",
        "\n",
        "В задании мы будем оценивать качество моделей с помощью метрики AUC-ROC."
      ]
    },
    {
      "cell_type": "markdown",
      "metadata": {
        "id": "oZCT0MGAPv0x"
      },
      "source": [
        "## Подбор гиперпараметров модели\n",
        "\n",
        "В задачах машинного обучения следует различать параметры модели и гиперпараметры (структурные параметры). Обычно параметры модели настраиваются в ходе обучения (например, веса в линейной модели или структура решающего дерева), в то время как гиперпараметры задаются заранее (например, регуляризация в линейной модели или максимальная глубина решающего дерева). Каждая модель обычно имеет множество гиперпараметров, и нет универсальных наборов гиперпараметров, оптимально работающих во всех задачах, для каждой задачи нужно подбирать свой набор.\n",
        "\n",
        "Для оптимизации гиперпараметров модели часто используют _перебор по сетке (grid search)_: для каждого гиперпараметра выбирается несколько значений, перебираются все комбинации значений и выбирается комбинация, на которой модель показывает лучшее качество (с точки зрения метрики, которая оптимизируется). Однако в этом случае нужно грамотно оценивать построенную модель, а именно делать разбиение на обучающую и тестовую выборку. Есть несколько схем, как это можно реализовать:\n",
        "\n",
        " - Разбить имеющуюся выборку на обучающую и тестовую. В этом случае сравнение большого числа моделей при переборе параметров приводит к ситуации, когда лучшая на тестовой подвыборке модель не сохраняет свои качества на новых данных. Можно сказать, что происходит _переобучение_ на тестовую выборку.\n",
        " - Для устранения описанной выше проблемы, можно разбить данные на 3 непересекающихся подвыборки: обучение (`train`), валидация (`validation`) и контроль (`test`). Валидационную подвыборку используют для сравнения моделей, а `test` — для окончательной оценки качества и сравнения семейств моделей с подобранными параметрами.\n",
        " - Другой способ сравнения моделей — [кросс-валидация](http://en.wikipedia.org/wiki/Cross-validation_(statistics). Существуют различные схемы кросс-валидации:\n",
        "  - Leave-One-Out\n",
        "  - K-Fold\n",
        "  - Многократное случайное разбиение выборки\n",
        "  \n",
        "Кросс-валидация вычислительно затратна, особенно если вы делаете перебор по сетке с очень большим числом комбинации. С учетом конечности времени на выполнение задания, возникает ряд компромиссов:\n",
        "  - сетку можно делать более разреженной, перебирая меньше значений каждого параметра; однако, надо не забывать, что в таком случае можно пропустить хорошую комбинацию параметров;\n",
        "  - кросс-валидацию можно делать с меньшим числом разбиений или фолдов, но в таком случае оценка качества кросс-валидации становится более шумной и увеличивается риск выбрать неоптимальный набор параметров из-за случайности разбиения;\n",
        "  - параметры можно оптимизировать последовательно (жадно) — один за другим, а не перебирать все комбинации; такая стратегия не всегда приводит к оптимальному набору;\n",
        "  - перебирать не все комбинации параметров, а небольшое число случайно выбранных."
      ]
    },
    {
      "cell_type": "markdown",
      "metadata": {
        "id": "VQaVfPbKPv0x"
      },
      "source": [
        "## Задание"
      ]
    },
    {
      "cell_type": "code",
      "execution_count": 1,
      "metadata": {
        "colab": {
          "base_uri": "https://localhost:8080/"
        },
        "id": "wS4e-L-XwpSI",
        "outputId": "c8d76b65-86e3-46d9-f46f-07c28ec63eed"
      },
      "outputs": [
        {
          "output_type": "stream",
          "name": "stdout",
          "text": [
            "Collecting ipython-autotime\n",
            "  Downloading ipython_autotime-0.3.2-py2.py3-none-any.whl (7.0 kB)\n",
            "Requirement already satisfied: ipython in /usr/local/lib/python3.10/dist-packages (from ipython-autotime) (7.34.0)\n",
            "Requirement already satisfied: setuptools>=18.5 in /usr/local/lib/python3.10/dist-packages (from ipython->ipython-autotime) (67.7.2)\n",
            "Collecting jedi>=0.16 (from ipython->ipython-autotime)\n",
            "  Downloading jedi-0.19.1-py2.py3-none-any.whl (1.6 MB)\n",
            "\u001b[2K     \u001b[90m━━━━━━━━━━━━━━━━━━━━━━━━━━━━━━━━━━━━━━━━\u001b[0m \u001b[32m1.6/1.6 MB\u001b[0m \u001b[31m10.3 MB/s\u001b[0m eta \u001b[36m0:00:00\u001b[0m\n",
            "\u001b[?25hRequirement already satisfied: decorator in /usr/local/lib/python3.10/dist-packages (from ipython->ipython-autotime) (4.4.2)\n",
            "Requirement already satisfied: pickleshare in /usr/local/lib/python3.10/dist-packages (from ipython->ipython-autotime) (0.7.5)\n",
            "Requirement already satisfied: traitlets>=4.2 in /usr/local/lib/python3.10/dist-packages (from ipython->ipython-autotime) (5.7.1)\n",
            "Requirement already satisfied: prompt-toolkit!=3.0.0,!=3.0.1,<3.1.0,>=2.0.0 in /usr/local/lib/python3.10/dist-packages (from ipython->ipython-autotime) (3.0.43)\n",
            "Requirement already satisfied: pygments in /usr/local/lib/python3.10/dist-packages (from ipython->ipython-autotime) (2.16.1)\n",
            "Requirement already satisfied: backcall in /usr/local/lib/python3.10/dist-packages (from ipython->ipython-autotime) (0.2.0)\n",
            "Requirement already satisfied: matplotlib-inline in /usr/local/lib/python3.10/dist-packages (from ipython->ipython-autotime) (0.1.7)\n",
            "Requirement already satisfied: pexpect>4.3 in /usr/local/lib/python3.10/dist-packages (from ipython->ipython-autotime) (4.9.0)\n",
            "Requirement already satisfied: parso<0.9.0,>=0.8.3 in /usr/local/lib/python3.10/dist-packages (from jedi>=0.16->ipython->ipython-autotime) (0.8.4)\n",
            "Requirement already satisfied: ptyprocess>=0.5 in /usr/local/lib/python3.10/dist-packages (from pexpect>4.3->ipython->ipython-autotime) (0.7.0)\n",
            "Requirement already satisfied: wcwidth in /usr/local/lib/python3.10/dist-packages (from prompt-toolkit!=3.0.0,!=3.0.1,<3.1.0,>=2.0.0->ipython->ipython-autotime) (0.2.13)\n",
            "Installing collected packages: jedi, ipython-autotime\n",
            "Successfully installed ipython-autotime-0.3.2 jedi-0.19.1\n",
            "time: 333 µs (started: 2024-05-15 19:00:48 +00:00)\n"
          ]
        }
      ],
      "source": [
        "!pip install ipython-autotime\n",
        "%load_ext autotime"
      ]
    },
    {
      "cell_type": "code",
      "execution_count": 2,
      "metadata": {
        "colab": {
          "base_uri": "https://localhost:8080/"
        },
        "id": "MThDHJM4Mskx",
        "outputId": "6d9b993c-c220-4828-e54c-98056360f3ba"
      },
      "outputs": [
        {
          "output_type": "stream",
          "name": "stdout",
          "text": [
            "time: 904 ms (started: 2024-05-15 19:00:48 +00:00)\n"
          ]
        }
      ],
      "source": [
        "import pandas as pd\n",
        "import numpy as np\n",
        "import matplotlib.pyplot as plt\n",
        "\n",
        "SEED = 42"
      ]
    },
    {
      "cell_type": "markdown",
      "metadata": {
        "id": "ZW7tBWvtPv0x"
      },
      "source": [
        "Загрузите набор данных *data.adult.csv*. Чтобы лучше понимать, с чем вы работаете/корректно ли вы загрузили данные можно вывести несколько первых строк на экран."
      ]
    },
    {
      "cell_type": "code",
      "execution_count": 3,
      "metadata": {
        "colab": {
          "base_uri": "https://localhost:8080/",
          "height": 337
        },
        "collapsed": true,
        "id": "t9VIEEhBPv0x",
        "outputId": "9be956bd-63c2-4264-e44b-98d5d526114f"
      },
      "outputs": [
        {
          "output_type": "execute_result",
          "data": {
            "text/plain": [
              "       age  workclass  fnlwgt     education  education-num  \\\n",
              "12801   51  State-gov  172022       Masters             14   \n",
              "10008   38    Private  195744     Bachelors             13   \n",
              "6735    57    Private  153918       HS-grad              9   \n",
              "14175   26    Private  247025     Assoc-voc             11   \n",
              "13311   33  State-gov   43716  Some-college             10   \n",
              "\n",
              "           marital-status        occupation   relationship   race   sex  \\\n",
              "12801       Never-married    Prof-specialty  Not-in-family  White  Male   \n",
              "10008       Never-married     Other-service  Not-in-family  White  Male   \n",
              "6735   Married-civ-spouse  Transport-moving        Husband  White  Male   \n",
              "14175            Divorced      Craft-repair      Own-child  White  Male   \n",
              "13311  Married-civ-spouse      Craft-repair        Husband  White  Male   \n",
              "\n",
              "       capital-gain  capital-loss  hours-per-week >50K,<=50K  \n",
              "12801             0             0              40       >50K  \n",
              "10008             0             0              48      <=50K  \n",
              "6735              0             0              40      <=50K  \n",
              "14175             0             0              40      <=50K  \n",
              "13311             0             0               4      <=50K  "
            ],
            "text/html": [
              "\n",
              "  <div id=\"df-1d723d3e-889e-4124-bbe6-140afdab3538\" class=\"colab-df-container\">\n",
              "    <div>\n",
              "<style scoped>\n",
              "    .dataframe tbody tr th:only-of-type {\n",
              "        vertical-align: middle;\n",
              "    }\n",
              "\n",
              "    .dataframe tbody tr th {\n",
              "        vertical-align: top;\n",
              "    }\n",
              "\n",
              "    .dataframe thead th {\n",
              "        text-align: right;\n",
              "    }\n",
              "</style>\n",
              "<table border=\"1\" class=\"dataframe\">\n",
              "  <thead>\n",
              "    <tr style=\"text-align: right;\">\n",
              "      <th></th>\n",
              "      <th>age</th>\n",
              "      <th>workclass</th>\n",
              "      <th>fnlwgt</th>\n",
              "      <th>education</th>\n",
              "      <th>education-num</th>\n",
              "      <th>marital-status</th>\n",
              "      <th>occupation</th>\n",
              "      <th>relationship</th>\n",
              "      <th>race</th>\n",
              "      <th>sex</th>\n",
              "      <th>capital-gain</th>\n",
              "      <th>capital-loss</th>\n",
              "      <th>hours-per-week</th>\n",
              "      <th>&gt;50K,&lt;=50K</th>\n",
              "    </tr>\n",
              "  </thead>\n",
              "  <tbody>\n",
              "    <tr>\n",
              "      <th>12801</th>\n",
              "      <td>51</td>\n",
              "      <td>State-gov</td>\n",
              "      <td>172022</td>\n",
              "      <td>Masters</td>\n",
              "      <td>14</td>\n",
              "      <td>Never-married</td>\n",
              "      <td>Prof-specialty</td>\n",
              "      <td>Not-in-family</td>\n",
              "      <td>White</td>\n",
              "      <td>Male</td>\n",
              "      <td>0</td>\n",
              "      <td>0</td>\n",
              "      <td>40</td>\n",
              "      <td>&gt;50K</td>\n",
              "    </tr>\n",
              "    <tr>\n",
              "      <th>10008</th>\n",
              "      <td>38</td>\n",
              "      <td>Private</td>\n",
              "      <td>195744</td>\n",
              "      <td>Bachelors</td>\n",
              "      <td>13</td>\n",
              "      <td>Never-married</td>\n",
              "      <td>Other-service</td>\n",
              "      <td>Not-in-family</td>\n",
              "      <td>White</td>\n",
              "      <td>Male</td>\n",
              "      <td>0</td>\n",
              "      <td>0</td>\n",
              "      <td>48</td>\n",
              "      <td>&lt;=50K</td>\n",
              "    </tr>\n",
              "    <tr>\n",
              "      <th>6735</th>\n",
              "      <td>57</td>\n",
              "      <td>Private</td>\n",
              "      <td>153918</td>\n",
              "      <td>HS-grad</td>\n",
              "      <td>9</td>\n",
              "      <td>Married-civ-spouse</td>\n",
              "      <td>Transport-moving</td>\n",
              "      <td>Husband</td>\n",
              "      <td>White</td>\n",
              "      <td>Male</td>\n",
              "      <td>0</td>\n",
              "      <td>0</td>\n",
              "      <td>40</td>\n",
              "      <td>&lt;=50K</td>\n",
              "    </tr>\n",
              "    <tr>\n",
              "      <th>14175</th>\n",
              "      <td>26</td>\n",
              "      <td>Private</td>\n",
              "      <td>247025</td>\n",
              "      <td>Assoc-voc</td>\n",
              "      <td>11</td>\n",
              "      <td>Divorced</td>\n",
              "      <td>Craft-repair</td>\n",
              "      <td>Own-child</td>\n",
              "      <td>White</td>\n",
              "      <td>Male</td>\n",
              "      <td>0</td>\n",
              "      <td>0</td>\n",
              "      <td>40</td>\n",
              "      <td>&lt;=50K</td>\n",
              "    </tr>\n",
              "    <tr>\n",
              "      <th>13311</th>\n",
              "      <td>33</td>\n",
              "      <td>State-gov</td>\n",
              "      <td>43716</td>\n",
              "      <td>Some-college</td>\n",
              "      <td>10</td>\n",
              "      <td>Married-civ-spouse</td>\n",
              "      <td>Craft-repair</td>\n",
              "      <td>Husband</td>\n",
              "      <td>White</td>\n",
              "      <td>Male</td>\n",
              "      <td>0</td>\n",
              "      <td>0</td>\n",
              "      <td>4</td>\n",
              "      <td>&lt;=50K</td>\n",
              "    </tr>\n",
              "  </tbody>\n",
              "</table>\n",
              "</div>\n",
              "    <div class=\"colab-df-buttons\">\n",
              "\n",
              "  <div class=\"colab-df-container\">\n",
              "    <button class=\"colab-df-convert\" onclick=\"convertToInteractive('df-1d723d3e-889e-4124-bbe6-140afdab3538')\"\n",
              "            title=\"Convert this dataframe to an interactive table.\"\n",
              "            style=\"display:none;\">\n",
              "\n",
              "  <svg xmlns=\"http://www.w3.org/2000/svg\" height=\"24px\" viewBox=\"0 -960 960 960\">\n",
              "    <path d=\"M120-120v-720h720v720H120Zm60-500h600v-160H180v160Zm220 220h160v-160H400v160Zm0 220h160v-160H400v160ZM180-400h160v-160H180v160Zm440 0h160v-160H620v160ZM180-180h160v-160H180v160Zm440 0h160v-160H620v160Z\"/>\n",
              "  </svg>\n",
              "    </button>\n",
              "\n",
              "  <style>\n",
              "    .colab-df-container {\n",
              "      display:flex;\n",
              "      gap: 12px;\n",
              "    }\n",
              "\n",
              "    .colab-df-convert {\n",
              "      background-color: #E8F0FE;\n",
              "      border: none;\n",
              "      border-radius: 50%;\n",
              "      cursor: pointer;\n",
              "      display: none;\n",
              "      fill: #1967D2;\n",
              "      height: 32px;\n",
              "      padding: 0 0 0 0;\n",
              "      width: 32px;\n",
              "    }\n",
              "\n",
              "    .colab-df-convert:hover {\n",
              "      background-color: #E2EBFA;\n",
              "      box-shadow: 0px 1px 2px rgba(60, 64, 67, 0.3), 0px 1px 3px 1px rgba(60, 64, 67, 0.15);\n",
              "      fill: #174EA6;\n",
              "    }\n",
              "\n",
              "    .colab-df-buttons div {\n",
              "      margin-bottom: 4px;\n",
              "    }\n",
              "\n",
              "    [theme=dark] .colab-df-convert {\n",
              "      background-color: #3B4455;\n",
              "      fill: #D2E3FC;\n",
              "    }\n",
              "\n",
              "    [theme=dark] .colab-df-convert:hover {\n",
              "      background-color: #434B5C;\n",
              "      box-shadow: 0px 1px 3px 1px rgba(0, 0, 0, 0.15);\n",
              "      filter: drop-shadow(0px 1px 2px rgba(0, 0, 0, 0.3));\n",
              "      fill: #FFFFFF;\n",
              "    }\n",
              "  </style>\n",
              "\n",
              "    <script>\n",
              "      const buttonEl =\n",
              "        document.querySelector('#df-1d723d3e-889e-4124-bbe6-140afdab3538 button.colab-df-convert');\n",
              "      buttonEl.style.display =\n",
              "        google.colab.kernel.accessAllowed ? 'block' : 'none';\n",
              "\n",
              "      async function convertToInteractive(key) {\n",
              "        const element = document.querySelector('#df-1d723d3e-889e-4124-bbe6-140afdab3538');\n",
              "        const dataTable =\n",
              "          await google.colab.kernel.invokeFunction('convertToInteractive',\n",
              "                                                    [key], {});\n",
              "        if (!dataTable) return;\n",
              "\n",
              "        const docLinkHtml = 'Like what you see? Visit the ' +\n",
              "          '<a target=\"_blank\" href=https://colab.research.google.com/notebooks/data_table.ipynb>data table notebook</a>'\n",
              "          + ' to learn more about interactive tables.';\n",
              "        element.innerHTML = '';\n",
              "        dataTable['output_type'] = 'display_data';\n",
              "        await google.colab.output.renderOutput(dataTable, element);\n",
              "        const docLink = document.createElement('div');\n",
              "        docLink.innerHTML = docLinkHtml;\n",
              "        element.appendChild(docLink);\n",
              "      }\n",
              "    </script>\n",
              "  </div>\n",
              "\n",
              "\n",
              "<div id=\"df-b8071f97-a019-401c-8243-5528e7f63dc2\">\n",
              "  <button class=\"colab-df-quickchart\" onclick=\"quickchart('df-b8071f97-a019-401c-8243-5528e7f63dc2')\"\n",
              "            title=\"Suggest charts\"\n",
              "            style=\"display:none;\">\n",
              "\n",
              "<svg xmlns=\"http://www.w3.org/2000/svg\" height=\"24px\"viewBox=\"0 0 24 24\"\n",
              "     width=\"24px\">\n",
              "    <g>\n",
              "        <path d=\"M19 3H5c-1.1 0-2 .9-2 2v14c0 1.1.9 2 2 2h14c1.1 0 2-.9 2-2V5c0-1.1-.9-2-2-2zM9 17H7v-7h2v7zm4 0h-2V7h2v10zm4 0h-2v-4h2v4z\"/>\n",
              "    </g>\n",
              "</svg>\n",
              "  </button>\n",
              "\n",
              "<style>\n",
              "  .colab-df-quickchart {\n",
              "      --bg-color: #E8F0FE;\n",
              "      --fill-color: #1967D2;\n",
              "      --hover-bg-color: #E2EBFA;\n",
              "      --hover-fill-color: #174EA6;\n",
              "      --disabled-fill-color: #AAA;\n",
              "      --disabled-bg-color: #DDD;\n",
              "  }\n",
              "\n",
              "  [theme=dark] .colab-df-quickchart {\n",
              "      --bg-color: #3B4455;\n",
              "      --fill-color: #D2E3FC;\n",
              "      --hover-bg-color: #434B5C;\n",
              "      --hover-fill-color: #FFFFFF;\n",
              "      --disabled-bg-color: #3B4455;\n",
              "      --disabled-fill-color: #666;\n",
              "  }\n",
              "\n",
              "  .colab-df-quickchart {\n",
              "    background-color: var(--bg-color);\n",
              "    border: none;\n",
              "    border-radius: 50%;\n",
              "    cursor: pointer;\n",
              "    display: none;\n",
              "    fill: var(--fill-color);\n",
              "    height: 32px;\n",
              "    padding: 0;\n",
              "    width: 32px;\n",
              "  }\n",
              "\n",
              "  .colab-df-quickchart:hover {\n",
              "    background-color: var(--hover-bg-color);\n",
              "    box-shadow: 0 1px 2px rgba(60, 64, 67, 0.3), 0 1px 3px 1px rgba(60, 64, 67, 0.15);\n",
              "    fill: var(--button-hover-fill-color);\n",
              "  }\n",
              "\n",
              "  .colab-df-quickchart-complete:disabled,\n",
              "  .colab-df-quickchart-complete:disabled:hover {\n",
              "    background-color: var(--disabled-bg-color);\n",
              "    fill: var(--disabled-fill-color);\n",
              "    box-shadow: none;\n",
              "  }\n",
              "\n",
              "  .colab-df-spinner {\n",
              "    border: 2px solid var(--fill-color);\n",
              "    border-color: transparent;\n",
              "    border-bottom-color: var(--fill-color);\n",
              "    animation:\n",
              "      spin 1s steps(1) infinite;\n",
              "  }\n",
              "\n",
              "  @keyframes spin {\n",
              "    0% {\n",
              "      border-color: transparent;\n",
              "      border-bottom-color: var(--fill-color);\n",
              "      border-left-color: var(--fill-color);\n",
              "    }\n",
              "    20% {\n",
              "      border-color: transparent;\n",
              "      border-left-color: var(--fill-color);\n",
              "      border-top-color: var(--fill-color);\n",
              "    }\n",
              "    30% {\n",
              "      border-color: transparent;\n",
              "      border-left-color: var(--fill-color);\n",
              "      border-top-color: var(--fill-color);\n",
              "      border-right-color: var(--fill-color);\n",
              "    }\n",
              "    40% {\n",
              "      border-color: transparent;\n",
              "      border-right-color: var(--fill-color);\n",
              "      border-top-color: var(--fill-color);\n",
              "    }\n",
              "    60% {\n",
              "      border-color: transparent;\n",
              "      border-right-color: var(--fill-color);\n",
              "    }\n",
              "    80% {\n",
              "      border-color: transparent;\n",
              "      border-right-color: var(--fill-color);\n",
              "      border-bottom-color: var(--fill-color);\n",
              "    }\n",
              "    90% {\n",
              "      border-color: transparent;\n",
              "      border-bottom-color: var(--fill-color);\n",
              "    }\n",
              "  }\n",
              "</style>\n",
              "\n",
              "  <script>\n",
              "    async function quickchart(key) {\n",
              "      const quickchartButtonEl =\n",
              "        document.querySelector('#' + key + ' button');\n",
              "      quickchartButtonEl.disabled = true;  // To prevent multiple clicks.\n",
              "      quickchartButtonEl.classList.add('colab-df-spinner');\n",
              "      try {\n",
              "        const charts = await google.colab.kernel.invokeFunction(\n",
              "            'suggestCharts', [key], {});\n",
              "      } catch (error) {\n",
              "        console.error('Error during call to suggestCharts:', error);\n",
              "      }\n",
              "      quickchartButtonEl.classList.remove('colab-df-spinner');\n",
              "      quickchartButtonEl.classList.add('colab-df-quickchart-complete');\n",
              "    }\n",
              "    (() => {\n",
              "      let quickchartButtonEl =\n",
              "        document.querySelector('#df-b8071f97-a019-401c-8243-5528e7f63dc2 button');\n",
              "      quickchartButtonEl.style.display =\n",
              "        google.colab.kernel.accessAllowed ? 'block' : 'none';\n",
              "    })();\n",
              "  </script>\n",
              "</div>\n",
              "    </div>\n",
              "  </div>\n"
            ],
            "application/vnd.google.colaboratory.intrinsic+json": {
              "type": "dataframe",
              "summary": "{\n  \"name\": \"df\",\n  \"rows\": 5,\n  \"fields\": [\n    {\n      \"column\": \"age\",\n      \"properties\": {\n        \"dtype\": \"number\",\n        \"std\": 12,\n        \"min\": 26,\n        \"max\": 57,\n        \"num_unique_values\": 5,\n        \"samples\": [\n          38,\n          33,\n          57\n        ],\n        \"semantic_type\": \"\",\n        \"description\": \"\"\n      }\n    },\n    {\n      \"column\": \"workclass\",\n      \"properties\": {\n        \"dtype\": \"category\",\n        \"num_unique_values\": 2,\n        \"samples\": [\n          \"Private\",\n          \"State-gov\"\n        ],\n        \"semantic_type\": \"\",\n        \"description\": \"\"\n      }\n    },\n    {\n      \"column\": \"fnlwgt\",\n      \"properties\": {\n        \"dtype\": \"number\",\n        \"std\": 75039,\n        \"min\": 43716,\n        \"max\": 247025,\n        \"num_unique_values\": 5,\n        \"samples\": [\n          195744,\n          43716\n        ],\n        \"semantic_type\": \"\",\n        \"description\": \"\"\n      }\n    },\n    {\n      \"column\": \"education\",\n      \"properties\": {\n        \"dtype\": \"string\",\n        \"num_unique_values\": 5,\n        \"samples\": [\n          \"Bachelors\",\n          \"Some-college\"\n        ],\n        \"semantic_type\": \"\",\n        \"description\": \"\"\n      }\n    },\n    {\n      \"column\": \"education-num\",\n      \"properties\": {\n        \"dtype\": \"number\",\n        \"std\": 2,\n        \"min\": 9,\n        \"max\": 14,\n        \"num_unique_values\": 5,\n        \"samples\": [\n          13,\n          10\n        ],\n        \"semantic_type\": \"\",\n        \"description\": \"\"\n      }\n    },\n    {\n      \"column\": \"marital-status\",\n      \"properties\": {\n        \"dtype\": \"string\",\n        \"num_unique_values\": 3,\n        \"samples\": [\n          \"Never-married\",\n          \"Married-civ-spouse\"\n        ],\n        \"semantic_type\": \"\",\n        \"description\": \"\"\n      }\n    },\n    {\n      \"column\": \"occupation\",\n      \"properties\": {\n        \"dtype\": \"string\",\n        \"num_unique_values\": 4,\n        \"samples\": [\n          \"Other-service\",\n          \"Craft-repair\"\n        ],\n        \"semantic_type\": \"\",\n        \"description\": \"\"\n      }\n    },\n    {\n      \"column\": \"relationship\",\n      \"properties\": {\n        \"dtype\": \"string\",\n        \"num_unique_values\": 3,\n        \"samples\": [\n          \"Not-in-family\",\n          \"Husband\"\n        ],\n        \"semantic_type\": \"\",\n        \"description\": \"\"\n      }\n    },\n    {\n      \"column\": \"race\",\n      \"properties\": {\n        \"dtype\": \"category\",\n        \"num_unique_values\": 1,\n        \"samples\": [\n          \"White\"\n        ],\n        \"semantic_type\": \"\",\n        \"description\": \"\"\n      }\n    },\n    {\n      \"column\": \"sex\",\n      \"properties\": {\n        \"dtype\": \"category\",\n        \"num_unique_values\": 1,\n        \"samples\": [\n          \"Male\"\n        ],\n        \"semantic_type\": \"\",\n        \"description\": \"\"\n      }\n    },\n    {\n      \"column\": \"capital-gain\",\n      \"properties\": {\n        \"dtype\": \"number\",\n        \"std\": 0,\n        \"min\": 0,\n        \"max\": 0,\n        \"num_unique_values\": 1,\n        \"samples\": [\n          0\n        ],\n        \"semantic_type\": \"\",\n        \"description\": \"\"\n      }\n    },\n    {\n      \"column\": \"capital-loss\",\n      \"properties\": {\n        \"dtype\": \"number\",\n        \"std\": 0,\n        \"min\": 0,\n        \"max\": 0,\n        \"num_unique_values\": 1,\n        \"samples\": [\n          0\n        ],\n        \"semantic_type\": \"\",\n        \"description\": \"\"\n      }\n    },\n    {\n      \"column\": \"hours-per-week\",\n      \"properties\": {\n        \"dtype\": \"number\",\n        \"std\": 17,\n        \"min\": 4,\n        \"max\": 48,\n        \"num_unique_values\": 3,\n        \"samples\": [\n          40\n        ],\n        \"semantic_type\": \"\",\n        \"description\": \"\"\n      }\n    },\n    {\n      \"column\": \">50K,<=50K\",\n      \"properties\": {\n        \"dtype\": \"category\",\n        \"num_unique_values\": 2,\n        \"samples\": [\n          \"<=50K\"\n        ],\n        \"semantic_type\": \"\",\n        \"description\": \"\"\n      }\n    }\n  ]\n}"
            }
          },
          "metadata": {},
          "execution_count": 3
        },
        {
          "output_type": "stream",
          "name": "stdout",
          "text": [
            "time: 262 ms (started: 2024-05-15 19:00:49 +00:00)\n"
          ]
        }
      ],
      "source": [
        "df = pd.read_csv('/content/data.adult.csv')\n",
        "df.sample(5)"
      ]
    },
    {
      "cell_type": "markdown",
      "metadata": {
        "id": "1bMuXJdfPv0y"
      },
      "source": [
        "Иногда в данных встречаются пропуски. Как задаются пропуски обычно либо прописывается в описании к данным, либо просто на месте пропуска после чтения данных оказывается значение numpy.nan. Более подробно о работе с пропусками в Pandas можно прочитать например [здесь](http://pandas.pydata.org/pandas-docs/stable/missing_data.html).\n",
        "\n",
        "В данном датасете пропущенные значения обозначены как \"?\".\n",
        "\n",
        "**Задание 1** Найдите все признаки, имеющие пропущенные значения. Удалите из выборки все объекты с пропусками."
      ]
    },
    {
      "cell_type": "code",
      "execution_count": 4,
      "metadata": {
        "colab": {
          "base_uri": "https://localhost:8080/"
        },
        "collapsed": true,
        "id": "Xl2UQ7xxPv0y",
        "outputId": "a3a5d098-6c76-44f1-868c-8cc009fea80c"
      },
      "outputs": [
        {
          "output_type": "stream",
          "name": "stdout",
          "text": [
            "time: 57.7 ms (started: 2024-05-15 19:00:49 +00:00)\n"
          ]
        }
      ],
      "source": [
        "df = df[~(df == '?').any(axis=1)].reset_index(drop=True)"
      ]
    },
    {
      "cell_type": "markdown",
      "metadata": {
        "id": "bV_H8e7PPv0y"
      },
      "source": [
        "Обычно после загрузки датасета всегда необходима его некоторая предобработка. В данном случае она будет заключаться в следующем:\n",
        "\n",
        " - Выделите целевую переменную в отдельную переменную, удалите ее из датасета и преобразуйте к бинарному формату.\n",
        " - Обратите внимание, что не все признаки являются вещественными. В начале мы будем работать только с вещественными признаками. Выделите их отдельно."
      ]
    },
    {
      "cell_type": "code",
      "execution_count": 5,
      "metadata": {
        "colab": {
          "base_uri": "https://localhost:8080/"
        },
        "collapsed": true,
        "id": "vnjVGFh5Pv0y",
        "outputId": "07c8bb34-fbdf-4eb0-945c-7e752028d26b"
      },
      "outputs": [
        {
          "output_type": "stream",
          "name": "stdout",
          "text": [
            "time: 13.9 ms (started: 2024-05-15 19:00:49 +00:00)\n"
          ]
        }
      ],
      "source": [
        "X, y = df.drop('>50K,<=50K', axis=1).select_dtypes('number'), \\\n",
        "       pd.get_dummies(df['>50K,<=50K']).iloc[:, 1].astype(int)"
      ]
    },
    {
      "cell_type": "markdown",
      "metadata": {
        "id": "jD7AX1HQPv0y"
      },
      "source": [
        "## Обучение классификаторов на вещественных признаках\n",
        "\n",
        "В данном разделе необходимо будет работать только с вещественными признаками и целевой переменной.\n",
        "\n",
        "В начале посмотрим как работает подбор параметров по сетке и как влияет на качество разбиение выборки. Сейчас и далее будем рассматривать 5 алгоритмов:\n",
        " - [kNN](http://scikit-learn.org/stable/modules/generated/sklearn.neighbors.KNeighborsClassifier.html)\n",
        " - [DecisonTree](http://scikit-learn.org/stable/modules/generated/sklearn.tree.DecisionTreeClassifier.html#sklearn.tree.DecisionTreeClassifier)\n",
        " - [SGD Linear Classifier](http://scikit-learn.org/stable/modules/generated/sklearn.linear_model.SGDClassifier.html)\n",
        " - [RandomForest](http://scikit-learn.org/stable/modules/generated/sklearn.ensemble.RandomForestClassifier.html)\n",
        " - [GradientBoosting](https://scikit-learn.org/stable/modules/generated/sklearn.ensemble.GradientBoostingClassifier.html)\n",
        "\n",
        "Для начала у первых трёх алгоритмов выберем один гиперпараметр, который будем оптимизировать:\n",
        " - kNN — число соседей (*n_neighbors*)\n",
        " - DecisonTree — глубина дерева (*max_depth*)\n",
        " - SGD Linear Classifier — оптимизируемая функция (*loss*)\n",
        "\n",
        "Остальные параметры оставляйте в значениях по умолчанию. Для подбора гиперпараметров воспользуйтесь перебором по сетке, который реализован в классе [GridSearchCV](https://scikit-learn.org/stable/modules/generated/sklearn.model_selection.GridSearchCV.html). В качестве схемы кросс-валидации используйте 5-fold cv, которую можно задать с помощью класса [KFold](https://scikit-learn.org/stable/modules/generated/sklearn.model_selection.KFold.html).\n",
        "\n",
        "**Задание 2** Для каждого из первых трех алгоритмов подберите оптимальные значения указанных гиперпараметров. Для каждого из этих алгоритмов постройте график среднего качества по кросс-валидации при заданном значении гиперпараметра, на котором также отобразите доверительный интервал [m-std, m+std], где m - среднее, std - стандартное отклонение."
      ]
    },
    {
      "cell_type": "code",
      "execution_count": null,
      "metadata": {
        "collapsed": true,
        "id": "yWDDx4aHPv0z"
      },
      "outputs": [],
      "source": [
        "from sklearn.model_selection import GridSearchCV, KFold\n",
        "\n",
        "\n",
        "N_SPLITS = 5\n",
        "\n",
        "def optimise_param_kfold(X, y, model, search_params):\n",
        "    kf = KFold(n_splits=N_SPLITS, shuffle=True, random_state=SEED)\n",
        "    gscv = GridSearchCV(model, search_params, scoring='roc_auc', cv=kf)\n",
        "    gscv.fit(X, y)\n",
        "    return gscv\n",
        "\n",
        "def plot_mean_sd(ax, x, y_mean, y_std, x_cat=False):\n",
        "    lower_bound = y_mean - y_std\n",
        "    upper_bound = y_mean + y_std\n",
        "\n",
        "    ax.plot(x, y_mean, '-')\n",
        "    if not x_cat:\n",
        "        max_x = x[np.argmax(y_mean)]\n",
        "        ax.axvline(max_x, linestyle='--', color='black')\n",
        "        plt.xticks(list(plt.xticks()[0]) + [max_x])\n",
        "    else:\n",
        "        ax.tick_params(labelrotation = 10)\n",
        "    ax.fill_between(x, lower_bound, upper_bound, alpha=.3)"
      ]
    },
    {
      "cell_type": "code",
      "execution_count": null,
      "metadata": {
        "colab": {
          "base_uri": "https://localhost:8080/",
          "height": 452
        },
        "id": "sHdXXUB6TlX8",
        "outputId": "b655a238-3301-4f6a-fde9-eb37e64ff5d2"
      },
      "outputs": [
        {
          "data": {
            "image/png": "[encoded data removed]",
            "text/plain": [
              "<Figure size 640x480 with 1 Axes>"
            ]
          },
          "metadata": {},
          "output_type": "display_data"
        }
      ],
      "source": [
        "from sklearn.neighbors import KNeighborsClassifier\n",
        "\n",
        "model = KNeighborsClassifier()\n",
        "params = {'n_neighbors': [2, 3, 5, 10, 15, 20, 25, 30, 35, 40]}\n",
        "gscv = optimise_param_kfold(X, y, model, params)\n",
        "\n",
        "fig, ax = plt.subplots()\n",
        "plot_mean_sd(ax, params['n_neighbors'], gscv.cv_results_['mean_test_score'], gscv.cv_results_['std_test_score'])\n",
        "ax.set_title('KNN optimal n_neighbors by AUC');"
      ]
    },
    {
      "cell_type": "code",
      "execution_count": null,
      "metadata": {
        "colab": {
          "base_uri": "https://localhost:8080/",
          "height": 452
        },
        "id": "UxmS_I8tRe0f",
        "outputId": "ab87c440-9f70-4260-8cca-be9769683c3b"
      },
      "outputs": [
        {
          "data": {
            "image/png": "[encoded data removed]",
            "text/plain": [
              "<Figure size 640x480 with 1 Axes>"
            ]
          },
          "metadata": {},
          "output_type": "display_data"
        }
      ],
      "source": [
        "from sklearn.tree import DecisionTreeClassifier\n",
        "\n",
        "model = DecisionTreeClassifier()\n",
        "params = {'max_depth': [3, 4, 5, 6, 7, 8, 9, 10, 25, 50, 75, 100, 125, 150, 175, 200, 225, 250, 275, 300]}\n",
        "gscv = optimise_param_kfold(X, y, model, params)\n",
        "\n",
        "fig, ax = plt.subplots()\n",
        "plot_mean_sd(ax, params['max_depth'], gscv.cv_results_['mean_test_score'], gscv.cv_results_['std_test_score'])\n",
        "ax.set_title('DecisionTree optimal max_depth by AUC');"
      ]
    },
    {
      "cell_type": "code",
      "execution_count": null,
      "metadata": {
        "colab": {
          "base_uri": "https://localhost:8080/",
          "height": 486
        },
        "id": "tZ8AQQ5kUN09",
        "outputId": "a00fbd50-79cb-4543-fb1c-b47ae498c6ee"
      },
      "outputs": [
        {
          "data": {
            "image/png": "[encoded data removed]",
            "text/plain": [
              "<Figure size 640x480 with 1 Axes>"
            ]
          },
          "metadata": {},
          "output_type": "display_data"
        }
      ],
      "source": [
        "from sklearn.linear_model import SGDClassifier\n",
        "\n",
        "model = SGDClassifier()\n",
        "params = {'loss': ['hinge', 'log_loss', 'modified_huber', 'squared_hinge', 'perceptron', 'squared_error', 'huber', 'epsilon_insensitive', 'squared_epsilon_insensitive']}\n",
        "gscv = optimise_param_kfold(X, y, model, params)\n",
        "\n",
        "fig, ax = plt.subplots()\n",
        "plot_mean_sd(ax, params['loss'], gscv.cv_results_['mean_test_score'], gscv.cv_results_['std_test_score'], x_cat=True)\n",
        "ax.set_title('SGDClassifier optimal loss by AUC');"
      ]
    },
    {
      "cell_type": "markdown",
      "metadata": {
        "id": "f3bRm0HkWm4O"
      },
      "source": [
        "В случае KNN после пика мы видим стабильное ухудшение скора, посколько все большее и большее объединение различных соседей ведет к все большему стиранию границ между классами.\n",
        "\n",
        "В DecisionTreeClassifier судя по всему мы очень сильно переобучаемся уже на небольшой глубине дерева, после чего модель полностью теряет обобщающую способность, или же сваливается в локальный минимум, предсказывая один и тот же класс."
      ]
    },
    {
      "cell_type": "markdown",
      "metadata": {
        "id": "gSI8MxmyPv0z"
      },
      "source": [
        "Что вы можете сказать о получившихся графиках?\n",
        "\n",
        "**Задание 3** Также подберём число деревьев (*n_estimators*) в алгоритме RandomForest. Как известно, в общем случае Random Forest не переобучается с увеличением количества деревьев, так что при увеличении этого гиперпараметра его качество не будет становиться хуже. Поэтому подберите такое количество деревьев, при котором качество на кросс-валидации стабилизируется. Обратите внимание, что для проведения этого эксперимента не нужно с нуля обучать много случайных лесов с различными количествами деревьев. Обучите один случайный лес с максимальным интересным количеством деревьев, а затем рассмотрите подмножества разных размеров, состоящие из деревьев построенного леса (поле [*estimators_*](http://scikit-learn.org/stable/modules/generated/sklearn.ensemble.RandomForestClassifier.html)). В дальнейших экспериментах используйте это количество деревьев."
      ]
    },
    {
      "cell_type": "code",
      "execution_count": null,
      "metadata": {
        "colab": {
          "base_uri": "https://localhost:8080/"
        },
        "collapsed": true,
        "id": "uctIM42OPv0z",
        "outputId": "6832101f-3aec-4763-a868-fac9b45a123f"
      },
      "outputs": [
        {
          "name": "stdout",
          "output_type": "stream",
          "text": [
            "Fitted fold 0\n",
            "Fitted fold 1\n",
            "Fitted fold 2\n",
            "Fitted fold 3\n",
            "Fitted fold 4\n"
          ]
        }
      ],
      "source": [
        "from sklearn.ensemble import RandomForestClassifier\n",
        "from sklearn.metrics import roc_auc_score\n",
        "from collections import defaultdict\n",
        "\n",
        "n_estimators_vals = np.arange(1, 200, 1)\n",
        "models_preds = defaultdict(list)\n",
        "\n",
        "kf = KFold(n_splits=N_SPLITS, shuffle=True, random_state=SEED)\n",
        "for i, (train_idx, test_idx) in enumerate(kf.split(X, y)):\n",
        "    base_model = RandomForestClassifier(n_estimators=200, random_state=SEED).fit(\n",
        "        X.iloc[train_idx].to_numpy(), y.iloc[train_idx])\n",
        "    for n_est in n_estimators_vals:\n",
        "        preds = np.mean([tree.predict_proba(X.iloc[test_idx].to_numpy())[:, 1] for tree in base_model.estimators_[:n_est]], axis=0)\n",
        "        score = roc_auc_score(y.iloc[test_idx], preds)\n",
        "        models_preds[n_est].append(score)\n",
        "    print(f'Fitted fold {i}')"
      ]
    },
    {
      "cell_type": "code",
      "execution_count": null,
      "metadata": {
        "colab": {
          "base_uri": "https://localhost:8080/",
          "height": 471
        },
        "id": "gTcmeVHyoYK5",
        "outputId": "f66789d2-0ad9-4f2a-e785-905a160847f8"
      },
      "outputs": [
        {
          "data": {
            "image/png": "[encoded data removed]",
            "text/plain": [
              "<Figure size 640x480 with 1 Axes>"
            ]
          },
          "metadata": {},
          "output_type": "display_data"
        }
      ],
      "source": [
        "fig, ax = plt.subplots()\n",
        "ax.plot(np.array(list(models_preds.values())).mean(axis=1));\n",
        "ax.set_ylabel('ROC AUC score');\n",
        "ax.set_xlabel('n_estimators');"
      ]
    },
    {
      "cell_type": "markdown",
      "metadata": {
        "id": "RLusTUBFxQsI"
      },
      "source": [
        "Остановимся на 125 деревьях.\n",
        "\n",
        "Мы использовали предсказания вероятностей лкассов вместо самих классов при подсчете скора, поэтому скор может быть завышен по сравнению с обычной схемой (majority vote составляющих лес деревьев)\n",
        "\n"
      ]
    },
    {
      "cell_type": "markdown",
      "metadata": {
        "id": "M_B5qPdVPv0z"
      },
      "source": [
        "**Задание 4** Подберём число деревьев (*n_estimators*) в алгоритме GradientBoosting. Мы знаем, что ошибка бустинга на тестовых данных, как правило, имеет U-образную форму, то есть сначала уменьшается, а при достижении некоторого числа деревьев начинает расти. Нарисуйте график ошибки в зависимости от числа деревьев. Подберите n_estimators, соответствующий минимуму ошибки."
      ]
    },
    {
      "cell_type": "code",
      "execution_count": null,
      "metadata": {
        "colab": {
          "base_uri": "https://localhost:8080/"
        },
        "id": "WfPH9oHNPv0z",
        "outputId": "5fe9be8c-838b-4cb4-f632-9dfa48d2d853"
      },
      "outputs": [
        {
          "name": "stdout",
          "output_type": "stream",
          "text": [
            "Fitted fold 0\n",
            "Fitted fold 1\n",
            "Fitted fold 2\n",
            "Fitted fold 3\n",
            "Fitted fold 4\n"
          ]
        }
      ],
      "source": [
        "from sklearn.ensemble import GradientBoostingClassifier\n",
        "from sklearn.metrics import roc_auc_score, f1_score\n",
        "from collections import defaultdict\n",
        "\n",
        "\n",
        "models_scores = defaultdict(list)\n",
        "\n",
        "kf = KFold(n_splits=N_SPLITS, shuffle=True, random_state=SEED)\n",
        "for i, (train_idx, test_idx) in enumerate(kf.split(X, y)):\n",
        "    base_model = GradientBoostingClassifier(n_estimators=1000, random_state=SEED).fit(\n",
        "        X.iloc[train_idx].to_numpy(), y.iloc[train_idx])\n",
        "\n",
        "    for j, preds in enumerate(base_model.staged_predict(X.iloc[test_idx].to_numpy())):\n",
        "        score = roc_auc_score(y.iloc[test_idx], preds)\n",
        "        models_scores[j].append(score)\n",
        "\n",
        "    print(f'Fitted fold {i}')"
      ]
    },
    {
      "cell_type": "code",
      "execution_count": null,
      "metadata": {
        "colab": {
          "base_uri": "https://localhost:8080/",
          "height": 448
        },
        "id": "DnDbSyhZ8ERg",
        "outputId": "d813bcab-0dbc-4348-a824-909c6ae1b416"
      },
      "outputs": [
        {
          "name": "stdout",
          "output_type": "stream",
          "text": [
            "Best number of estimators: 827\n"
          ]
        },
        {
          "data": {
            "image/png": "[encoded data removed]",
            "text/plain": [
              "<Figure size 640x480 with 1 Axes>"
            ]
          },
          "metadata": {},
          "output_type": "display_data"
        }
      ],
      "source": [
        "mean = np.array(list(models_scores.values())).mean(axis=1)\n",
        "std = np.array(list(models_scores.values())).std(axis=1)\n",
        "plt.plot(mean)\n",
        "plt.fill_between(np.arange(0, 1000, 1), mean-std, mean+std, alpha=0.3);\n",
        "best_num_est = np.arange(0, 1000, 1)[np.argmax(mean)]\n",
        "plt.axvline(best_num_est, color='black', linestyle='--');\n",
        "print(f'Best number of estimators: {best_num_est}')"
      ]
    },
    {
      "cell_type": "markdown",
      "metadata": {
        "id": "mLhnDS7NPv0z"
      },
      "source": [
        "При обучении алгоритмов стоит обращать внимание не только на качество, но и каким образом они работают с данными. В этой задаче получилось так, что некоторые из используемых алгоритмов чувствительны к масштабу признаков. Чтобы убедиться, что это как-то могло повлиять на качество давайте посмотрим на сами признаки.\n",
        "\n",
        "**Задание 5** Постройте гистограммы для признаков *age*, *fnlwgt*, *capital-gain*. Глядя на получившиеся графики в чем заключается особенность данных? На какие алгоритмы это может повлиять? Может ли масшитабирование повлиять на работу этих алгоритмов?"
      ]
    },
    {
      "cell_type": "code",
      "execution_count": null,
      "metadata": {
        "colab": {
          "base_uri": "https://localhost:8080/",
          "height": 353
        },
        "id": "C0b3nKFGPv0z",
        "outputId": "7a2776b1-a7be-48dd-b239-0fef872a9972"
      },
      "outputs": [
        {
          "data": {
            "image/png": "[encoded data removed]",
            "text/plain": [
              "<Figure size 1000x300 with 3 Axes>"
            ]
          },
          "metadata": {},
          "output_type": "display_data"
        }
      ],
      "source": [
        "fig, axes = plt.subplots(1, 3, figsize=(10, 3))\n",
        "axes = np.ravel(axes)\n",
        "\n",
        "cols = ['age', 'fnlwgt', 'capital-gain']\n",
        "for col, ax in zip(cols, axes):\n",
        "    ax.hist(X[col], bins=30)\n",
        "    ax.set_title(col)"
      ]
    },
    {
      "cell_type": "markdown",
      "metadata": {
        "id": "UmM6A_r2t-D1"
      },
      "source": [
        "Разный масштаб признаков может оказать влияние на **KNN**, поскольку он использует абсолютные зачения расстояний между наблюдениями для объединения в классы. Соответственно, бОльшее значение фичи может оказать бОльшее влияние на принадлежность наблюдения к классу.\n",
        "\n",
        "**SGDClassifier** также пострадает от масштаба. Большое значение признака мождет вылиться в слишком большое обновление весов модели. В результате этого качество может сильно осциллировать, и будет сложнее прийти в локальный минимум.\n",
        "\n",
        "**DecisionTree** и **RandomForest** не зависят от масштаба признаков. При построении узла дерева учитывается только то, насколько хорошо разделяется таргет. Если скалировать любой признак, то всегда можно построить узел, который даст такое же разделение таргета.\n",
        "\n",
        "**GradientBoosting** немного зависит от масштаба. С одной стороны, в большинстве случаев мы спользуем деревья решений в качестве базовой модели для бустинга, деревья же от масштаба не зависят. Также, анасамбли внутри бустинга предсказывают не таргет, а ошибку прошлой модели. Размер этой ошибки будет больше в абсолютном значении для больших фичей, соответственно наши веса могут не быть слишком большими.\n",
        "\n",
        "С другой стороны, в начале обучения большие фичи могут оказывать сильно больший вклад на ошибку, чем маленькие, и модели может потребоваться больше времени что бы сойтись.\n",
        "\n"
      ]
    },
    {
      "cell_type": "markdown",
      "metadata": {
        "id": "GFUgqocbPv0z"
      },
      "source": [
        "Масштабирование признаков можно выполнить, например, одним из следующих способов способами:\n",
        " - $x_{new} = \\dfrac{x - \\mu}{\\sigma}$, где $\\mu, \\sigma$ — среднее и стандартное отклонение значения признака по всей выборке (см. функцию [scale](http://scikit-learn.org/stable/modules/generated/sklearn.preprocessing.scale.html))\n",
        " - $x_{new} = \\dfrac{x - x_{min}}{x_{max} - x_{min}}$, где $[x_{min}, x_{max}]$ — минимальный интервал значений признака\n",
        "\n",
        "Похожие схемы масштабирования приведены в классах [StandardScaler](http://scikit-learn.org/stable/modules/generated/sklearn.preprocessing.StandardScaler.html#sklearn.preprocessing.StandardScaler) и [MinMaxScaler](http://scikit-learn.org/stable/modules/generated/sklearn.preprocessing.MinMaxScaler.html#sklearn.preprocessing.MinMaxScaler).\n",
        "\n",
        "**Задание 6** Масштабируйте все вещественные признаки одним из указанных способов и подберите оптимальные значения гиперпараметров аналогично пункту выше."
      ]
    },
    {
      "cell_type": "code",
      "execution_count": null,
      "metadata": {
        "colab": {
          "base_uri": "https://localhost:8080/",
          "height": 259
        },
        "id": "Z5dTfnQSF84u",
        "outputId": "fee6c73a-af49-4db4-c1b7-9796ce97b6eb"
      },
      "outputs": [
        {
          "data": {
            "image/png": "[encoded data removed]",
            "text/plain": [
              "<Figure size 2000x300 with 6 Axes>"
            ]
          },
          "metadata": {},
          "output_type": "display_data"
        }
      ],
      "source": [
        "fig, axes = plt.subplots(1, 6, figsize=(20, 3))\n",
        "axes = np.ravel(axes)\n",
        "\n",
        "cols = list(X.columns)\n",
        "for col, ax in zip(cols, axes):\n",
        "    ax.hist(X[col], bins=30)\n",
        "    ax.set_title(col)"
      ]
    },
    {
      "cell_type": "code",
      "execution_count": 6,
      "metadata": {
        "colab": {
          "base_uri": "https://localhost:8080/"
        },
        "collapsed": true,
        "id": "xVJ1S6dPPv0z",
        "outputId": "5deb9fc7-6266-4d07-c44d-357217211d01"
      },
      "outputs": [
        {
          "output_type": "stream",
          "name": "stdout",
          "text": [
            "time: 1.19 s (started: 2024-05-15 19:01:04 +00:00)\n"
          ]
        }
      ],
      "source": [
        "from sklearn.preprocessing import StandardScaler, MinMaxScaler\n",
        "\n",
        "# фичи которые немного похожи на нормальные отскалируем с помощью Stndard Scaler\n",
        "features = ['age', 'fnlwgt', 'education-num', 'hours-per-week']\n",
        "standard_scaler = StandardScaler().fit(X[features])\n",
        "X[features] = standard_scaler.transform(X[features])\n",
        "\n",
        "# к остальным применим MinMaxScaler\n",
        "features = ['capital-gain', 'capital-loss']\n",
        "minmax_scaler = MinMaxScaler().fit(X[features])\n",
        "X[features] = minmax_scaler.transform(X[features])"
      ]
    },
    {
      "cell_type": "markdown",
      "metadata": {
        "id": "C67pzFIYPv00"
      },
      "source": [
        "Изменилось ли качество у некоторых алгоритмов?"
      ]
    },
    {
      "cell_type": "markdown",
      "metadata": {
        "id": "LPJOxP90IB1v"
      },
      "source": [
        "Мы ожидаем увидели сильное улучшение предсказаний **KNN**, а также улучшение предсказаний **SGDClassifier**.\n",
        "\n",
        "Для остальных алгоритмов качество не изменилось"
      ]
    },
    {
      "cell_type": "markdown",
      "metadata": {
        "id": "b_sVX-T4Pv00"
      },
      "source": [
        "**Задание 7** Теперь сделайте перебор нескольких гиперпараметров по сетке и найдите оптимальные комбинации (лучшее среднее значение качества) для каждого алгоритма в данном случае:\n",
        " - KNN — число соседей (*n_neighbors*) и метрика (*metric*)\n",
        " - DecisonTree — глубина дерева (*max_depth*) и критерий разбиения (*criterion*)\n",
        " - RandomForest — критерий разбиения в деревьях (*criterion*) и *max_features* (при фиксированном количестве деревьев, найденном ранее)\n",
        " - GradientBoosting — критерий разбиения в деревьях (*criterion*) и *max_features* (при фиксированном количестве деревьев, найденном ранее)\n",
        " - SGDClassifier — оптимизируемая функция (*loss*) и *penalty*\n",
        "\n",
        "Обратите внимание, что эта операция может быть ресурсо- и трудоемкой. Как оптимизировать подбор параметров по сетке сказано в разделе \"Подбор гиперпараметров модели\""
      ]
    },
    {
      "cell_type": "code",
      "execution_count": null,
      "metadata": {
        "collapsed": true,
        "id": "qVoOeVzFPv00"
      },
      "outputs": [],
      "source": [
        "from sklearn.model_selection import GridSearchCV, KFold, train_test_split\n",
        "from sklearn.metrics import roc_auc_score\n",
        "from itertools import product\n",
        "\n",
        "\n",
        "def optimise_param_val(X, y, model_class, search_params):\n",
        "    X_train, X_temp, y_train, y_temp = train_test_split(X, y, test_size=0.2, random_state=SEED)\n",
        "    X_val, X_test, y_val, y_test = train_test_split(X_temp, y_temp, test_size=0.5, random_state=SEED)\n",
        "\n",
        "    param_combinations = list(product(*(search_params[param] for param in search_params)))\n",
        "\n",
        "    best_score = 0\n",
        "    best_params = None\n",
        "    best_model = None\n",
        "\n",
        "    for params in param_combinations:\n",
        "        param_dict = {param_name: param_value for param_name, param_value in zip(search_params.keys(), params)}\n",
        "        model = model_class(**param_dict)\n",
        "        model.fit(X_train, y_train)\n",
        "\n",
        "        y_pred = model.predict(X_val)\n",
        "        score = roc_auc_score(y_val, y_pred)  # Change to your preferred metric\n",
        "\n",
        "        # Update best parameters if current score is better\n",
        "        if score > best_score:\n",
        "            best_score = score\n",
        "            best_params = param_dict\n",
        "            best_model = model\n",
        "\n",
        "    y_test_pred = best_model.predict(X_test)\n",
        "    test_score = roc_auc_score(y_test, y_test_pred)\n",
        "\n",
        "    print(f'Best params: {best_params}')\n",
        "    print(f'ROC AUC score: {test_score}')\n",
        "\n",
        "    return best_model, best_params, test_score"
      ]
    },
    {
      "cell_type": "code",
      "execution_count": null,
      "metadata": {
        "colab": {
          "base_uri": "https://localhost:8080/"
        },
        "id": "1-wgwCesNWOC",
        "outputId": "577d340b-9dea-41ff-bec2-7aa06a652484"
      },
      "outputs": [
        {
          "name": "stdout",
          "output_type": "stream",
          "text": [
            "Best params: {'n_neighbors': 5, 'metric': 'cosine'}\n",
            "ROC AUC score: 0.6291113848470073\n",
            "time: 7.3 s (started: 2024-05-14 15:43:35 +00:00)\n"
          ]
        }
      ],
      "source": [
        "from sklearn.neighbors import KNeighborsClassifier\n",
        "\n",
        "model_class = KNeighborsClassifier\n",
        "params = {\n",
        "    'n_neighbors': [2, 3, 5, 10, 15, 20, 25, 30, 35, 40],\n",
        "    'metric': ['euclidean', 'manhattan', 'cosine']\n",
        "}\n",
        "best_model, best_params, score = optimise_param_val(X, y, model_class, params)"
      ]
    },
    {
      "cell_type": "code",
      "execution_count": null,
      "metadata": {
        "colab": {
          "base_uri": "https://localhost:8080/"
        },
        "id": "orX5wvqjiWPe",
        "outputId": "61dc0bd7-abe7-4e37-c25a-2ffc237c4b41"
      },
      "outputs": [
        {
          "name": "stdout",
          "output_type": "stream",
          "text": [
            "Best params: {'max_depth': 9, 'criterion': 'gini'}\n",
            "ROC AUC score: 0.708348303265156\n",
            "time: 3.68 s (started: 2024-05-14 15:43:32 +00:00)\n"
          ]
        }
      ],
      "source": [
        "from sklearn.tree import DecisionTreeClassifier\n",
        "\n",
        "\n",
        "model_class = DecisionTreeClassifier\n",
        "params = {\n",
        "    'max_depth': [3, 4, 5, 6, 7, 8, 9, 10, 25, 50, 75, 100, 125, 150, 175, 200, 225, 250, 275, 300],\n",
        "    'criterion': ['gini', 'entropy', 'log_loss']\n",
        "}\n",
        "\n",
        "best_model, best_params, score = optimise_param_val(X, y, model_class, params)"
      ]
    },
    {
      "cell_type": "code",
      "execution_count": null,
      "metadata": {
        "colab": {
          "base_uri": "https://localhost:8080/"
        },
        "id": "EFKQr9c8jg5p",
        "outputId": "81ceb746-c81e-46a8-8bec-b698836a2ded"
      },
      "outputs": [
        {
          "name": "stdout",
          "output_type": "stream",
          "text": [
            "Best params: {'n_estimators': 125, 'max_features': 1, 'criterion': 'gini'}\n",
            "ROC AUC score: 0.7029548506856228\n",
            "time: 43.9 s (started: 2024-05-14 15:42:47 +00:00)\n"
          ]
        }
      ],
      "source": [
        "from sklearn.ensemble import RandomForestClassifier\n",
        "\n",
        "\n",
        "model_class = RandomForestClassifier\n",
        "params = {\n",
        "    'n_estimators': [125],\n",
        "    'max_features': np.arange(1, 6, 1),\n",
        "    'criterion': ['gini', 'entropy', 'log_loss']\n",
        "}\n",
        "\n",
        "best_model, best_params, score = optimise_param_val(X, y, model_class, params)"
      ]
    },
    {
      "cell_type": "code",
      "execution_count": null,
      "metadata": {
        "colab": {
          "base_uri": "https://localhost:8080/"
        },
        "id": "vTsv9d6Fsm3U",
        "outputId": "cd2e3498-459e-419c-b1bd-2e3c183f1776"
      },
      "outputs": [
        {
          "name": "stdout",
          "output_type": "stream",
          "text": [
            "Best params: {'n_estimators': 827, 'max_features': 4, 'criterion': 'squared_error'}\n",
            "ROC AUC score: 0.7192389286661363\n",
            "time: 1min 4s (started: 2024-05-14 15:41:42 +00:00)\n"
          ]
        }
      ],
      "source": [
        "from sklearn.ensemble import GradientBoostingClassifier\n",
        "\n",
        "\n",
        "model_class = GradientBoostingClassifier\n",
        "params = {\n",
        "    'n_estimators': [827],\n",
        "    'max_features': np.arange(1, 6, 1),\n",
        "    'criterion': ['friedman_mse', 'squared_error']\n",
        "}\n",
        "\n",
        "best_model, best_params, score = optimise_param_val(X, y, model_class, params)"
      ]
    },
    {
      "cell_type": "code",
      "execution_count": null,
      "metadata": {
        "colab": {
          "base_uri": "https://localhost:8080/"
        },
        "id": "b5JFFWHRvHqZ",
        "outputId": "a88a86d3-fffa-4a65-dcb2-07e5422566f2"
      },
      "outputs": [
        {
          "name": "stderr",
          "output_type": "stream",
          "text": [
            "/usr/local/lib/python3.10/dist-packages/sklearn/linear_model/_stochastic_gradient.py:702: ConvergenceWarning: Maximum number of iteration reached before convergence. Consider increasing max_iter to improve the fit.\n",
            "  warnings.warn(\n",
            "/usr/local/lib/python3.10/dist-packages/sklearn/linear_model/_stochastic_gradient.py:702: ConvergenceWarning: Maximum number of iteration reached before convergence. Consider increasing max_iter to improve the fit.\n",
            "  warnings.warn(\n",
            "/usr/local/lib/python3.10/dist-packages/sklearn/linear_model/_stochastic_gradient.py:702: ConvergenceWarning: Maximum number of iteration reached before convergence. Consider increasing max_iter to improve the fit.\n",
            "  warnings.warn(\n"
          ]
        },
        {
          "name": "stdout",
          "output_type": "stream",
          "text": [
            "Best params: {'loss': 'modified_huber', 'penalty': 'l2'}\n",
            "ROC AUC score: 0.6340610858760831\n",
            "time: 6.8 s (started: 2024-05-14 15:41:30 +00:00)\n"
          ]
        }
      ],
      "source": [
        "from sklearn.linear_model import SGDClassifier\n",
        "\n",
        "\n",
        "model_class = SGDClassifier\n",
        "params = {\n",
        "    'loss': ['hinge', 'log_loss', 'modified_huber', 'squared_hinge', 'perceptron', 'squared_error', 'huber', 'epsilon_insensitive', 'squared_epsilon_insensitive'],\n",
        "    'penalty': ['l1', 'l2']\n",
        "}\n",
        "\n",
        "best_model, best_params, score = optimise_param_val(X, y, model_class, params)"
      ]
    },
    {
      "cell_type": "markdown",
      "metadata": {
        "id": "QHiaWrHiPv00"
      },
      "source": [
        "Какой из алгоритмов имеет наилучшее качество?\n",
        "\n",
        "**Задание 8 (0.5 балла)** Сравните алгоритмы с точки зрения времени обучения. Обучение какого из алгоритмов работает дольше всего и, как вы думаете, почему?"
      ]
    },
    {
      "cell_type": "markdown",
      "metadata": {
        "id": "IHEnPbryxlLf"
      },
      "source": [
        "Даже не смотрят на то что в бустинге мы рамзер решетки параметров был сильно меньше, он работает дольше всего. На это есть несколько причин:\n",
        "\n",
        "1. Бустинг требует больше всего вычислительных затрат, ведь для каждой вложенной модели (у нас их 827) мы заново решаем задачу оптимизации.\n",
        "\n",
        "2. Если сравнивать бустинг с другими \"древесными\" моделями, вывод напрашивается сам собой: в случае Decision Tree у нас есть одно, возможно сложное, дерево. В случае RandomForest У нас есть много простоых деревьев. В случае с бустингом у нас много сложных деревьев, которые плюс ко всему нельзя распараллелить, как RandomForest."
      ]
    },
    {
      "cell_type": "markdown",
      "metadata": {
        "id": "WzNx9HXzPv00"
      },
      "source": [
        "## Добавление категориальных признаков в модели\n",
        "\n",
        "Пока мы не использовали нечисловые признаки, которые есть в датасете. Давайте посмотрим, правильно ли мы сделали и увеличится ли качество моделей после добавлениях этих признаков.\n",
        "\n",
        "**Задание 9** Преобразуйте все категориальные признаки с помощью метода one-hot-encoding (например, это можно сделать с помощью функции [OneHotEncoder](https://scikit-learn.org/stable/modules/generated/sklearn.preprocessing.OneHotEncoder.html), [pandas.get_dummies](http://pandas.pydata.org/pandas-docs/stable/generated/pandas.get_dummies.html) или [DictVectorizer](http://scikit-learn.org/stable/modules/generated/sklearn.feature_extraction.DictVectorizer.html) из sklearn)."
      ]
    },
    {
      "cell_type": "code",
      "execution_count": 8,
      "metadata": {
        "colab": {
          "base_uri": "https://localhost:8080/"
        },
        "collapsed": true,
        "id": "5DijfCyQPv00",
        "outputId": "4bfcb23a-bf43-4c2c-a5fe-1284b57a6a92"
      },
      "outputs": [
        {
          "output_type": "stream",
          "name": "stdout",
          "text": [
            "time: 25.6 ms (started: 2024-05-15 19:02:35 +00:00)\n"
          ]
        }
      ],
      "source": [
        "categorical_columns = df.select_dtypes('object').drop('>50K,<=50K', axis=1).columns\n",
        "\n",
        "# One-hot encode the categorical columns\n",
        "df_encoded = pd.get_dummies(df[categorical_columns], columns=categorical_columns).astype(int)\n",
        "X = pd.concat([df_encoded, X], axis=1)\n",
        "df_best_colsample = X.copy()"
      ]
    },
    {
      "cell_type": "code",
      "execution_count": null,
      "metadata": {
        "colab": {
          "base_uri": "https://localhost:8080/",
          "height": 290
        },
        "id": "3uMDq2_63HGE",
        "outputId": "839b2745-739c-4ebf-f3f1-1f06b52a8f15"
      },
      "outputs": [
        {
          "data": {
            "application/vnd.google.colaboratory.intrinsic+json": {
              "type": "dataframe"
            },
            "text/html": [
              "\n",
              "  <div id=\"df-29056289-bb0e-4835-a3ec-20f850435bba\" class=\"colab-df-container\">\n",
              "    <div>\n",
              "<style scoped>\n",
              "    .dataframe tbody tr th:only-of-type {\n",
              "        vertical-align: middle;\n",
              "    }\n",
              "\n",
              "    .dataframe tbody tr th {\n",
              "        vertical-align: top;\n",
              "    }\n",
              "\n",
              "    .dataframe thead th {\n",
              "        text-align: right;\n",
              "    }\n",
              "</style>\n",
              "<table border=\"1\" class=\"dataframe\">\n",
              "  <thead>\n",
              "    <tr style=\"text-align: right;\">\n",
              "      <th></th>\n",
              "      <th>workclass_Federal-gov</th>\n",
              "      <th>workclass_Local-gov</th>\n",
              "      <th>workclass_Private</th>\n",
              "      <th>workclass_Self-emp-inc</th>\n",
              "      <th>workclass_Self-emp-not-inc</th>\n",
              "      <th>workclass_State-gov</th>\n",
              "      <th>workclass_Without-pay</th>\n",
              "      <th>education_10th</th>\n",
              "      <th>education_11th</th>\n",
              "      <th>education_12th</th>\n",
              "      <th>...</th>\n",
              "      <th>race_Other</th>\n",
              "      <th>race_White</th>\n",
              "      <th>sex_Female</th>\n",
              "      <th>sex_Male</th>\n",
              "      <th>age</th>\n",
              "      <th>fnlwgt</th>\n",
              "      <th>education-num</th>\n",
              "      <th>capital-gain</th>\n",
              "      <th>capital-loss</th>\n",
              "      <th>hours-per-week</th>\n",
              "    </tr>\n",
              "  </thead>\n",
              "  <tbody>\n",
              "    <tr>\n",
              "      <th>1365</th>\n",
              "      <td>0</td>\n",
              "      <td>0</td>\n",
              "      <td>1</td>\n",
              "      <td>0</td>\n",
              "      <td>0</td>\n",
              "      <td>0</td>\n",
              "      <td>0</td>\n",
              "      <td>0</td>\n",
              "      <td>0</td>\n",
              "      <td>0</td>\n",
              "      <td>...</td>\n",
              "      <td>0</td>\n",
              "      <td>1</td>\n",
              "      <td>0</td>\n",
              "      <td>1</td>\n",
              "      <td>0.419879</td>\n",
              "      <td>0.069531</td>\n",
              "      <td>1.116020</td>\n",
              "      <td>0.072981</td>\n",
              "      <td>0.0</td>\n",
              "      <td>-0.074178</td>\n",
              "    </tr>\n",
              "    <tr>\n",
              "      <th>9701</th>\n",
              "      <td>0</td>\n",
              "      <td>0</td>\n",
              "      <td>1</td>\n",
              "      <td>0</td>\n",
              "      <td>0</td>\n",
              "      <td>0</td>\n",
              "      <td>0</td>\n",
              "      <td>1</td>\n",
              "      <td>0</td>\n",
              "      <td>0</td>\n",
              "      <td>...</td>\n",
              "      <td>0</td>\n",
              "      <td>1</td>\n",
              "      <td>1</td>\n",
              "      <td>0</td>\n",
              "      <td>-0.800597</td>\n",
              "      <td>1.161289</td>\n",
              "      <td>-1.625894</td>\n",
              "      <td>0.000000</td>\n",
              "      <td>0.0</td>\n",
              "      <td>-0.074178</td>\n",
              "    </tr>\n",
              "    <tr>\n",
              "      <th>333</th>\n",
              "      <td>0</td>\n",
              "      <td>0</td>\n",
              "      <td>1</td>\n",
              "      <td>0</td>\n",
              "      <td>0</td>\n",
              "      <td>0</td>\n",
              "      <td>0</td>\n",
              "      <td>0</td>\n",
              "      <td>1</td>\n",
              "      <td>0</td>\n",
              "      <td>...</td>\n",
              "      <td>0</td>\n",
              "      <td>1</td>\n",
              "      <td>1</td>\n",
              "      <td>0</td>\n",
              "      <td>-1.563395</td>\n",
              "      <td>-0.301284</td>\n",
              "      <td>-1.234192</td>\n",
              "      <td>0.000000</td>\n",
              "      <td>0.0</td>\n",
              "      <td>-0.905379</td>\n",
              "    </tr>\n",
              "    <tr>\n",
              "      <th>3456</th>\n",
              "      <td>0</td>\n",
              "      <td>0</td>\n",
              "      <td>1</td>\n",
              "      <td>0</td>\n",
              "      <td>0</td>\n",
              "      <td>0</td>\n",
              "      <td>0</td>\n",
              "      <td>0</td>\n",
              "      <td>0</td>\n",
              "      <td>0</td>\n",
              "      <td>...</td>\n",
              "      <td>0</td>\n",
              "      <td>1</td>\n",
              "      <td>1</td>\n",
              "      <td>0</td>\n",
              "      <td>-0.495478</td>\n",
              "      <td>-0.671517</td>\n",
              "      <td>-0.450788</td>\n",
              "      <td>0.000000</td>\n",
              "      <td>0.0</td>\n",
              "      <td>-0.489778</td>\n",
              "    </tr>\n",
              "    <tr>\n",
              "      <th>7506</th>\n",
              "      <td>0</td>\n",
              "      <td>0</td>\n",
              "      <td>1</td>\n",
              "      <td>0</td>\n",
              "      <td>0</td>\n",
              "      <td>0</td>\n",
              "      <td>0</td>\n",
              "      <td>0</td>\n",
              "      <td>0</td>\n",
              "      <td>0</td>\n",
              "      <td>...</td>\n",
              "      <td>0</td>\n",
              "      <td>0</td>\n",
              "      <td>1</td>\n",
              "      <td>0</td>\n",
              "      <td>-0.648038</td>\n",
              "      <td>0.015697</td>\n",
              "      <td>-0.059086</td>\n",
              "      <td>0.000000</td>\n",
              "      <td>0.0</td>\n",
              "      <td>-0.074178</td>\n",
              "    </tr>\n",
              "  </tbody>\n",
              "</table>\n",
              "<p>5 rows × 63 columns</p>\n",
              "</div>\n",
              "    <div class=\"colab-df-buttons\">\n",
              "\n",
              "  <div class=\"colab-df-container\">\n",
              "    <button class=\"colab-df-convert\" onclick=\"convertToInteractive('df-29056289-bb0e-4835-a3ec-20f850435bba')\"\n",
              "            title=\"Convert this dataframe to an interactive table.\"\n",
              "            style=\"display:none;\">\n",
              "\n",
              "  <svg xmlns=\"http://www.w3.org/2000/svg\" height=\"24px\" viewBox=\"0 -960 960 960\">\n",
              "    <path d=\"M120-120v-720h720v720H120Zm60-500h600v-160H180v160Zm220 220h160v-160H400v160Zm0 220h160v-160H400v160ZM180-400h160v-160H180v160Zm440 0h160v-160H620v160ZM180-180h160v-160H180v160Zm440 0h160v-160H620v160Z\"/>\n",
              "  </svg>\n",
              "    </button>\n",
              "\n",
              "  <style>\n",
              "    .colab-df-container {\n",
              "      display:flex;\n",
              "      gap: 12px;\n",
              "    }\n",
              "\n",
              "    .colab-df-convert {\n",
              "      background-color: #E8F0FE;\n",
              "      border: none;\n",
              "      border-radius: 50%;\n",
              "      cursor: pointer;\n",
              "      display: none;\n",
              "      fill: #1967D2;\n",
              "      height: 32px;\n",
              "      padding: 0 0 0 0;\n",
              "      width: 32px;\n",
              "    }\n",
              "\n",
              "    .colab-df-convert:hover {\n",
              "      background-color: #E2EBFA;\n",
              "      box-shadow: 0px 1px 2px rgba(60, 64, 67, 0.3), 0px 1px 3px 1px rgba(60, 64, 67, 0.15);\n",
              "      fill: #174EA6;\n",
              "    }\n",
              "\n",
              "    .colab-df-buttons div {\n",
              "      margin-bottom: 4px;\n",
              "    }\n",
              "\n",
              "    [theme=dark] .colab-df-convert {\n",
              "      background-color: #3B4455;\n",
              "      fill: #D2E3FC;\n",
              "    }\n",
              "\n",
              "    [theme=dark] .colab-df-convert:hover {\n",
              "      background-color: #434B5C;\n",
              "      box-shadow: 0px 1px 3px 1px rgba(0, 0, 0, 0.15);\n",
              "      filter: drop-shadow(0px 1px 2px rgba(0, 0, 0, 0.3));\n",
              "      fill: #FFFFFF;\n",
              "    }\n",
              "  </style>\n",
              "\n",
              "    <script>\n",
              "      const buttonEl =\n",
              "        document.querySelector('#df-29056289-bb0e-4835-a3ec-20f850435bba button.colab-df-convert');\n",
              "      buttonEl.style.display =\n",
              "        google.colab.kernel.accessAllowed ? 'block' : 'none';\n",
              "\n",
              "      async function convertToInteractive(key) {\n",
              "        const element = document.querySelector('#df-29056289-bb0e-4835-a3ec-20f850435bba');\n",
              "        const dataTable =\n",
              "          await google.colab.kernel.invokeFunction('convertToInteractive',\n",
              "                                                    [key], {});\n",
              "        if (!dataTable) return;\n",
              "\n",
              "        const docLinkHtml = 'Like what you see? Visit the ' +\n",
              "          '<a target=\"_blank\" href=https://colab.research.google.com/notebooks/data_table.ipynb>data table notebook</a>'\n",
              "          + ' to learn more about interactive tables.';\n",
              "        element.innerHTML = '';\n",
              "        dataTable['output_type'] = 'display_data';\n",
              "        await google.colab.output.renderOutput(dataTable, element);\n",
              "        const docLink = document.createElement('div');\n",
              "        docLink.innerHTML = docLinkHtml;\n",
              "        element.appendChild(docLink);\n",
              "      }\n",
              "    </script>\n",
              "  </div>\n",
              "\n",
              "\n",
              "<div id=\"df-5b8affc7-a3a2-4932-9669-530e9d655c24\">\n",
              "  <button class=\"colab-df-quickchart\" onclick=\"quickchart('df-5b8affc7-a3a2-4932-9669-530e9d655c24')\"\n",
              "            title=\"Suggest charts\"\n",
              "            style=\"display:none;\">\n",
              "\n",
              "<svg xmlns=\"http://www.w3.org/2000/svg\" height=\"24px\"viewBox=\"0 0 24 24\"\n",
              "     width=\"24px\">\n",
              "    <g>\n",
              "        <path d=\"M19 3H5c-1.1 0-2 .9-2 2v14c0 1.1.9 2 2 2h14c1.1 0 2-.9 2-2V5c0-1.1-.9-2-2-2zM9 17H7v-7h2v7zm4 0h-2V7h2v10zm4 0h-2v-4h2v4z\"/>\n",
              "    </g>\n",
              "</svg>\n",
              "  </button>\n",
              "\n",
              "<style>\n",
              "  .colab-df-quickchart {\n",
              "      --bg-color: #E8F0FE;\n",
              "      --fill-color: #1967D2;\n",
              "      --hover-bg-color: #E2EBFA;\n",
              "      --hover-fill-color: #174EA6;\n",
              "      --disabled-fill-color: #AAA;\n",
              "      --disabled-bg-color: #DDD;\n",
              "  }\n",
              "\n",
              "  [theme=dark] .colab-df-quickchart {\n",
              "      --bg-color: #3B4455;\n",
              "      --fill-color: #D2E3FC;\n",
              "      --hover-bg-color: #434B5C;\n",
              "      --hover-fill-color: #FFFFFF;\n",
              "      --disabled-bg-color: #3B4455;\n",
              "      --disabled-fill-color: #666;\n",
              "  }\n",
              "\n",
              "  .colab-df-quickchart {\n",
              "    background-color: var(--bg-color);\n",
              "    border: none;\n",
              "    border-radius: 50%;\n",
              "    cursor: pointer;\n",
              "    display: none;\n",
              "    fill: var(--fill-color);\n",
              "    height: 32px;\n",
              "    padding: 0;\n",
              "    width: 32px;\n",
              "  }\n",
              "\n",
              "  .colab-df-quickchart:hover {\n",
              "    background-color: var(--hover-bg-color);\n",
              "    box-shadow: 0 1px 2px rgba(60, 64, 67, 0.3), 0 1px 3px 1px rgba(60, 64, 67, 0.15);\n",
              "    fill: var(--button-hover-fill-color);\n",
              "  }\n",
              "\n",
              "  .colab-df-quickchart-complete:disabled,\n",
              "  .colab-df-quickchart-complete:disabled:hover {\n",
              "    background-color: var(--disabled-bg-color);\n",
              "    fill: var(--disabled-fill-color);\n",
              "    box-shadow: none;\n",
              "  }\n",
              "\n",
              "  .colab-df-spinner {\n",
              "    border: 2px solid var(--fill-color);\n",
              "    border-color: transparent;\n",
              "    border-bottom-color: var(--fill-color);\n",
              "    animation:\n",
              "      spin 1s steps(1) infinite;\n",
              "  }\n",
              "\n",
              "  @keyframes spin {\n",
              "    0% {\n",
              "      border-color: transparent;\n",
              "      border-bottom-color: var(--fill-color);\n",
              "      border-left-color: var(--fill-color);\n",
              "    }\n",
              "    20% {\n",
              "      border-color: transparent;\n",
              "      border-left-color: var(--fill-color);\n",
              "      border-top-color: var(--fill-color);\n",
              "    }\n",
              "    30% {\n",
              "      border-color: transparent;\n",
              "      border-left-color: var(--fill-color);\n",
              "      border-top-color: var(--fill-color);\n",
              "      border-right-color: var(--fill-color);\n",
              "    }\n",
              "    40% {\n",
              "      border-color: transparent;\n",
              "      border-right-color: var(--fill-color);\n",
              "      border-top-color: var(--fill-color);\n",
              "    }\n",
              "    60% {\n",
              "      border-color: transparent;\n",
              "      border-right-color: var(--fill-color);\n",
              "    }\n",
              "    80% {\n",
              "      border-color: transparent;\n",
              "      border-right-color: var(--fill-color);\n",
              "      border-bottom-color: var(--fill-color);\n",
              "    }\n",
              "    90% {\n",
              "      border-color: transparent;\n",
              "      border-bottom-color: var(--fill-color);\n",
              "    }\n",
              "  }\n",
              "</style>\n",
              "\n",
              "  <script>\n",
              "    async function quickchart(key) {\n",
              "      const quickchartButtonEl =\n",
              "        document.querySelector('#' + key + ' button');\n",
              "      quickchartButtonEl.disabled = true;  // To prevent multiple clicks.\n",
              "      quickchartButtonEl.classList.add('colab-df-spinner');\n",
              "      try {\n",
              "        const charts = await google.colab.kernel.invokeFunction(\n",
              "            'suggestCharts', [key], {});\n",
              "      } catch (error) {\n",
              "        console.error('Error during call to suggestCharts:', error);\n",
              "      }\n",
              "      quickchartButtonEl.classList.remove('colab-df-spinner');\n",
              "      quickchartButtonEl.classList.add('colab-df-quickchart-complete');\n",
              "    }\n",
              "    (() => {\n",
              "      let quickchartButtonEl =\n",
              "        document.querySelector('#df-5b8affc7-a3a2-4932-9669-530e9d655c24 button');\n",
              "      quickchartButtonEl.style.display =\n",
              "        google.colab.kernel.accessAllowed ? 'block' : 'none';\n",
              "    })();\n",
              "  </script>\n",
              "</div>\n",
              "    </div>\n",
              "  </div>\n"
            ],
            "text/plain": [
              "      workclass_Federal-gov  workclass_Local-gov  workclass_Private  \\\n",
              "1365                      0                    0                  1   \n",
              "9701                      0                    0                  1   \n",
              "333                       0                    0                  1   \n",
              "3456                      0                    0                  1   \n",
              "7506                      0                    0                  1   \n",
              "\n",
              "      workclass_Self-emp-inc  workclass_Self-emp-not-inc  workclass_State-gov  \\\n",
              "1365                       0                           0                    0   \n",
              "9701                       0                           0                    0   \n",
              "333                        0                           0                    0   \n",
              "3456                       0                           0                    0   \n",
              "7506                       0                           0                    0   \n",
              "\n",
              "      workclass_Without-pay  education_10th  education_11th  education_12th  \\\n",
              "1365                      0               0               0               0   \n",
              "9701                      0               1               0               0   \n",
              "333                       0               0               1               0   \n",
              "3456                      0               0               0               0   \n",
              "7506                      0               0               0               0   \n",
              "\n",
              "      ...  race_Other  race_White  sex_Female  sex_Male       age    fnlwgt  \\\n",
              "1365  ...           0           1           0         1  0.419879  0.069531   \n",
              "9701  ...           0           1           1         0 -0.800597  1.161289   \n",
              "333   ...           0           1           1         0 -1.563395 -0.301284   \n",
              "3456  ...           0           1           1         0 -0.495478 -0.671517   \n",
              "7506  ...           0           0           1         0 -0.648038  0.015697   \n",
              "\n",
              "      education-num  capital-gain  capital-loss  hours-per-week  \n",
              "1365       1.116020      0.072981           0.0       -0.074178  \n",
              "9701      -1.625894      0.000000           0.0       -0.074178  \n",
              "333       -1.234192      0.000000           0.0       -0.905379  \n",
              "3456      -0.450788      0.000000           0.0       -0.489778  \n",
              "7506      -0.059086      0.000000           0.0       -0.074178  \n",
              "\n",
              "[5 rows x 63 columns]"
            ]
          },
          "execution_count": 8,
          "metadata": {},
          "output_type": "execute_result"
        },
        {
          "name": "stdout",
          "output_type": "stream",
          "text": [
            "time: 62.8 ms (started: 2024-05-14 19:01:38 +00:00)\n"
          ]
        }
      ],
      "source": [
        "X.sample(5)"
      ]
    },
    {
      "cell_type": "markdown",
      "metadata": {
        "id": "fQege5GiPv00"
      },
      "source": [
        "**Задание 10** Добавьте к масштабированным вещественным признакам закодированные категориальные и обучите алгоритмы с наилучшими гиперпараметрами из предыдущего пункта. Дало ли добавление новых признаков прирост качества? Измеряйте качество как и раньше используя 5-Fold CV. Для этого удобно воспользоваться функцией [cross_val_score](https://scikit-learn.org/stable/modules/generated/sklearn.model_selection.cross_val_score.html)."
      ]
    },
    {
      "cell_type": "code",
      "execution_count": null,
      "metadata": {
        "colab": {
          "base_uri": "https://localhost:8080/"
        },
        "id": "dCXXDspmPv00",
        "outputId": "40555085-932e-4375-a3e7-3bcb7d1a596e"
      },
      "outputs": [
        {
          "name": "stdout",
          "output_type": "stream",
          "text": [
            "time: 979 µs (started: 2024-05-14 19:10:33 +00:00)\n"
          ]
        }
      ],
      "source": [
        "from sklearn.model_selection import cross_val_score\n",
        "\n",
        "\n",
        "def cross_eval(X, y, model_class, model_params):\n",
        "    model = model_class(**model_params)\n",
        "    scores = cross_val_score(model, X, y, scoring='roc_auc', cv=5)\n",
        "    mean_score = scores.mean()\n",
        "    return mean_score"
      ]
    },
    {
      "cell_type": "code",
      "execution_count": null,
      "metadata": {
        "colab": {
          "base_uri": "https://localhost:8080/"
        },
        "id": "Bu3LE9-6g4L2",
        "outputId": "9ba5e557-3890-4c57-8128-84085bf6bbbd"
      },
      "outputs": [
        {
          "name": "stdout",
          "output_type": "stream",
          "text": [
            "Score with new features: 0.8399413337788767\n",
            "time: 6.66 s (started: 2024-05-14 19:11:39 +00:00)\n"
          ]
        }
      ],
      "source": [
        "from sklearn.neighbors import KNeighborsClassifier\n",
        "\n",
        "model_class = KNeighborsClassifier\n",
        "params = {\n",
        "    'n_neighbors': 5,\n",
        "    'metric': 'cosine'\n",
        "}\n",
        "\n",
        "score = cross_eval(X, y, model_class, params)\n",
        "# previous score 0.69\n",
        "print(f'Score with new features: {score}')"
      ]
    },
    {
      "cell_type": "code",
      "execution_count": null,
      "metadata": {
        "colab": {
          "base_uri": "https://localhost:8080/"
        },
        "id": "1zzwfvYFgOr0",
        "outputId": "6a4398ae-8701-4eab-8db5-b6703cc6e418"
      },
      "outputs": [
        {
          "name": "stdout",
          "output_type": "stream",
          "text": [
            "Score with new features: 0.886149649352796\n",
            "time: 673 ms (started: 2024-05-14 19:10:35 +00:00)\n"
          ]
        }
      ],
      "source": [
        "from sklearn.tree import DecisionTreeClassifier\n",
        "\n",
        "model_class = DecisionTreeClassifier\n",
        "params = {\n",
        "    'max_depth': 9,\n",
        "    'criterion': 'gini'\n",
        "}\n",
        "\n",
        "score = cross_eval(X, y, model_class, params)\n",
        "# previous score 0.7\n",
        "print(f'Score with new features: {score}')"
      ]
    },
    {
      "cell_type": "code",
      "execution_count": null,
      "metadata": {
        "colab": {
          "base_uri": "https://localhost:8080/"
        },
        "id": "ZLlZOWFehHV8",
        "outputId": "f55526fc-204c-4754-b999-e617b49287d6"
      },
      "outputs": [
        {
          "name": "stdout",
          "output_type": "stream",
          "text": [
            "Score with new features: 0.8890232768953098\n",
            "time: 8.5 s (started: 2024-05-14 19:12:40 +00:00)\n"
          ]
        }
      ],
      "source": [
        "from sklearn.ensemble import RandomForestClassifier\n",
        "\n",
        "model_class = RandomForestClassifier\n",
        "params = {\n",
        "    'n_estimators': 125,\n",
        "    'max_features': 1,\n",
        "    'criterion': 'gini'\n",
        "}\n",
        "\n",
        "score = cross_eval(X, y, model_class, params)\n",
        "# previous score 0.7\n",
        "print(f'Score with new features: {score}')"
      ]
    },
    {
      "cell_type": "code",
      "execution_count": null,
      "metadata": {
        "colab": {
          "base_uri": "https://localhost:8080/"
        },
        "id": "B4g-YnluhV9v",
        "outputId": "fcdf73e8-7071-4f11-df8b-375372aa336d"
      },
      "outputs": [
        {
          "name": "stdout",
          "output_type": "stream",
          "text": [
            "Score with new features: 0.9196765895378519\n",
            "time: 27.7 s (started: 2024-05-14 19:13:36 +00:00)\n"
          ]
        }
      ],
      "source": [
        "from sklearn.ensemble import GradientBoostingClassifier\n",
        "\n",
        "model_class = GradientBoostingClassifier\n",
        "params = {\n",
        "    'n_estimators': 827,\n",
        "    'max_features': 4,\n",
        "    'criterion': 'squared_error'\n",
        "}\n",
        "\n",
        "score = cross_eval(X, y, model_class, params)\n",
        "# previous score 0.72\n",
        "print(f'Score with new features: {score}')"
      ]
    },
    {
      "cell_type": "code",
      "execution_count": null,
      "metadata": {
        "colab": {
          "base_uri": "https://localhost:8080/"
        },
        "id": "1DM38EvzhkhX",
        "outputId": "063eeba4-4732-477d-e35b-34410f37b07e"
      },
      "outputs": [
        {
          "name": "stdout",
          "output_type": "stream",
          "text": [
            "Score with new features: 0.891440965630865\n",
            "time: 2.51 s (started: 2024-05-14 19:14:38 +00:00)\n"
          ]
        }
      ],
      "source": [
        "from sklearn.linear_model import SGDClassifier\n",
        "\n",
        "model_class = SGDClassifier\n",
        "params = {\n",
        "    'loss': 'modified_huber',\n",
        "    'penalty': 'l2'\n",
        "}\n",
        "\n",
        "score = cross_eval(X, y, model_class, params)\n",
        "# previous score 0.63\n",
        "print(f'Score with new features: {score}')"
      ]
    },
    {
      "cell_type": "markdown",
      "metadata": {
        "id": "PMbx-zJcPv00"
      },
      "source": [
        "Отличается ли теперь наилучший классификатор от наилучшего в предыдущем пункте?"
      ]
    },
    {
      "cell_type": "markdown",
      "metadata": {
        "id": "OMedjMOSh1nV"
      },
      "source": [
        "GradientBoosting по прежнему показывает наилучший результат; для всех алгоритмов скоры сильно выросли"
      ]
    },
    {
      "cell_type": "markdown",
      "metadata": {
        "id": "YLZGOh_qPv01"
      },
      "source": [
        "## Поиск новых полезных признаков\n",
        "\n",
        "**Задание 11** Попробуем улучшить качество модели, добавив в неё новые информативные признаки. Поступим так же, как действовали на [семинаре](https://github.com/Murcha1990/ML_Econom_2021-2022/blob/main/Семинары/Семинар%207/Seminar7.ipynb):\n",
        "* добавьте к модели полиномиальных признаков степени 2 (для создания полиномиальных признаков используйте только исходные числовые признаки)\n",
        "* затем снизьте размерность с помощью:\n",
        "a) фильтрационных методов\n",
        "b) жадного отбора признаков (RFE)\n",
        "с) встроенного в модель метода отбора признаков.\n",
        "\n",
        "Для каждого пункта выше выберите один метод и подберите для него оптимальные гиперпараметры, а также количество финальных признаков (по кросс-валидации).\n",
        "\n",
        "* Затем можно добавить к модели закодированные в предыдущем пункте категориальные признаки.\n",
        "\n",
        "Позволил ли этот подход улучшить качество моделей?"
      ]
    },
    {
      "cell_type": "code",
      "execution_count": 27,
      "metadata": {
        "colab": {
          "base_uri": "https://localhost:8080/"
        },
        "id": "i-oaiFA1Pv01",
        "outputId": "a98f29c8-322c-4537-a5a0-a01f528f7c7b"
      },
      "outputs": [
        {
          "output_type": "stream",
          "name": "stdout",
          "text": [
            "time: 16.7 ms (started: 2024-05-15 17:38:22 +00:00)\n"
          ]
        }
      ],
      "source": [
        "from sklearn.preprocessing import PolynomialFeatures\n",
        "\n",
        "poly = PolynomialFeatures(2, include_bias=False)\n",
        "poly.fit(df.select_dtypes('number'))\n",
        "\n",
        "df_poly = pd.DataFrame(poly.transform(df.select_dtypes('number')), columns=poly.get_feature_names_out())\n",
        "X = pd.concat([df_encoded, df_poly], axis=1)"
      ]
    },
    {
      "cell_type": "markdown",
      "metadata": {
        "id": "TfHz8BYuC-Ga"
      },
      "source": [
        "#### Отбор признаков с помощью фильтрационных методов"
      ]
    },
    {
      "cell_type": "code",
      "execution_count": null,
      "metadata": {
        "colab": {
          "base_uri": "https://localhost:8080/",
          "height": 187
        },
        "id": "tuP8l2wq23y2",
        "outputId": "66e28330-f8d0-432a-acef-550b9bad7561"
      },
      "outputs": [
        {
          "data": {
            "text/html": [
              "<style>#sk-container-id-4 {color: black;background-color: white;}#sk-container-id-4 pre{padding: 0;}#sk-container-id-4 div.sk-toggleable {background-color: white;}#sk-container-id-4 label.sk-toggleable__label {cursor: pointer;display: block;width: 100%;margin-bottom: 0;padding: 0.3em;box-sizing: border-box;text-align: center;}#sk-container-id-4 label.sk-toggleable__label-arrow:before {content: \"▸\";float: left;margin-right: 0.25em;color: #696969;}#sk-container-id-4 label.sk-toggleable__label-arrow:hover:before {color: black;}#sk-container-id-4 div.sk-estimator:hover label.sk-toggleable__label-arrow:before {color: black;}#sk-container-id-4 div.sk-toggleable__content {max-height: 0;max-width: 0;overflow: hidden;text-align: left;background-color: #f0f8ff;}#sk-container-id-4 div.sk-toggleable__content pre {margin: 0.2em;color: black;border-radius: 0.25em;background-color: #f0f8ff;}#sk-container-id-4 input.sk-toggleable__control:checked~div.sk-toggleable__content {max-height: 200px;max-width: 100%;overflow: auto;}#sk-container-id-4 input.sk-toggleable__control:checked~label.sk-toggleable__label-arrow:before {content: \"▾\";}#sk-container-id-4 div.sk-estimator input.sk-toggleable__control:checked~label.sk-toggleable__label {background-color: #d4ebff;}#sk-container-id-4 div.sk-label input.sk-toggleable__control:checked~label.sk-toggleable__label {background-color: #d4ebff;}#sk-container-id-4 input.sk-hidden--visually {border: 0;clip: rect(1px 1px 1px 1px);clip: rect(1px, 1px, 1px, 1px);height: 1px;margin: -1px;overflow: hidden;padding: 0;position: absolute;width: 1px;}#sk-container-id-4 div.sk-estimator {font-family: monospace;background-color: #f0f8ff;border: 1px dotted black;border-radius: 0.25em;box-sizing: border-box;margin-bottom: 0.5em;}#sk-container-id-4 div.sk-estimator:hover {background-color: #d4ebff;}#sk-container-id-4 div.sk-parallel-item::after {content: \"\";width: 100%;border-bottom: 1px solid gray;flex-grow: 1;}#sk-container-id-4 div.sk-label:hover label.sk-toggleable__label {background-color: #d4ebff;}#sk-container-id-4 div.sk-serial::before {content: \"\";position: absolute;border-left: 1px solid gray;box-sizing: border-box;top: 0;bottom: 0;left: 50%;z-index: 0;}#sk-container-id-4 div.sk-serial {display: flex;flex-direction: column;align-items: center;background-color: white;padding-right: 0.2em;padding-left: 0.2em;position: relative;}#sk-container-id-4 div.sk-item {position: relative;z-index: 1;}#sk-container-id-4 div.sk-parallel {display: flex;align-items: stretch;justify-content: center;background-color: white;position: relative;}#sk-container-id-4 div.sk-item::before, #sk-container-id-4 div.sk-parallel-item::before {content: \"\";position: absolute;border-left: 1px solid gray;box-sizing: border-box;top: 0;bottom: 0;left: 50%;z-index: -1;}#sk-container-id-4 div.sk-parallel-item {display: flex;flex-direction: column;z-index: 1;position: relative;background-color: white;}#sk-container-id-4 div.sk-parallel-item:first-child::after {align-self: flex-end;width: 50%;}#sk-container-id-4 div.sk-parallel-item:last-child::after {align-self: flex-start;width: 50%;}#sk-container-id-4 div.sk-parallel-item:only-child::after {width: 0;}#sk-container-id-4 div.sk-dashed-wrapped {border: 1px dashed gray;margin: 0 0.4em 0.5em 0.4em;box-sizing: border-box;padding-bottom: 0.4em;background-color: white;}#sk-container-id-4 div.sk-label label {font-family: monospace;font-weight: bold;display: inline-block;line-height: 1.2em;}#sk-container-id-4 div.sk-label-container {text-align: center;}#sk-container-id-4 div.sk-container {/* jupyter's `normalize.less` sets `[hidden] { display: none; }` but bootstrap.min.css set `[hidden] { display: none !important; }` so we also need the `!important` here to be able to override the default hidden behavior on the sphinx rendered scikit-learn.org. See: https://github.com/scikit-learn/scikit-learn/issues/21755 */display: inline-block !important;position: relative;}#sk-container-id-4 div.sk-text-repr-fallback {display: none;}</style><div id=\"sk-container-id-4\" class=\"sk-top-container\"><div class=\"sk-text-repr-fallback\"><pre>GridSearchCV(cv=5,\n",
              "             estimator=Pipeline(steps=[(&#x27;selectkbest&#x27;,\n",
              "                                        SelectKBest(score_func=&lt;function mutual_info_classif at 0x7ad2715c4940&gt;)),\n",
              "                                       (&#x27;decisiontreeclassifier&#x27;,\n",
              "                                        DecisionTreeClassifier())]),\n",
              "             param_grid={&#x27;decisiontreeclassifier__criterion&#x27;: [&#x27;gini&#x27;,\n",
              "                                                               &#x27;entropy&#x27;,\n",
              "                                                               &#x27;log_loss&#x27;],\n",
              "                         &#x27;decisiontreeclassifier__max_depth&#x27;: array([ 1,  5,  9, 13, 17]),\n",
              "                         &#x27;selectkbest__k&#x27;: array([ 6, 11, 16, 21, 26, 31, 36, 41, 46, 51, 56, 61, 66, 71, 76, 81])})</pre><b>In a Jupyter environment, please rerun this cell to show the HTML representation or trust the notebook. <br />On GitHub, the HTML representation is unable to render, please try loading this page with nbviewer.org.</b></div><div class=\"sk-container\" hidden><div class=\"sk-item sk-dashed-wrapped\"><div class=\"sk-label-container\"><div class=\"sk-label sk-toggleable\"><input class=\"sk-toggleable__control sk-hidden--visually\" id=\"sk-estimator-id-19\" type=\"checkbox\" ><label for=\"sk-estimator-id-19\" class=\"sk-toggleable__label sk-toggleable__label-arrow\">GridSearchCV</label><div class=\"sk-toggleable__content\"><pre>GridSearchCV(cv=5,\n",
              "             estimator=Pipeline(steps=[(&#x27;selectkbest&#x27;,\n",
              "                                        SelectKBest(score_func=&lt;function mutual_info_classif at 0x7ad2715c4940&gt;)),\n",
              "                                       (&#x27;decisiontreeclassifier&#x27;,\n",
              "                                        DecisionTreeClassifier())]),\n",
              "             param_grid={&#x27;decisiontreeclassifier__criterion&#x27;: [&#x27;gini&#x27;,\n",
              "                                                               &#x27;entropy&#x27;,\n",
              "                                                               &#x27;log_loss&#x27;],\n",
              "                         &#x27;decisiontreeclassifier__max_depth&#x27;: array([ 1,  5,  9, 13, 17]),\n",
              "                         &#x27;selectkbest__k&#x27;: array([ 6, 11, 16, 21, 26, 31, 36, 41, 46, 51, 56, 61, 66, 71, 76, 81])})</pre></div></div></div><div class=\"sk-parallel\"><div class=\"sk-parallel-item\"><div class=\"sk-item\"><div class=\"sk-label-container\"><div class=\"sk-label sk-toggleable\"><input class=\"sk-toggleable__control sk-hidden--visually\" id=\"sk-estimator-id-20\" type=\"checkbox\" ><label for=\"sk-estimator-id-20\" class=\"sk-toggleable__label sk-toggleable__label-arrow\">estimator: Pipeline</label><div class=\"sk-toggleable__content\"><pre>Pipeline(steps=[(&#x27;selectkbest&#x27;,\n",
              "                 SelectKBest(score_func=&lt;function mutual_info_classif at 0x7ad2715c4940&gt;)),\n",
              "                (&#x27;decisiontreeclassifier&#x27;, DecisionTreeClassifier())])</pre></div></div></div><div class=\"sk-serial\"><div class=\"sk-item\"><div class=\"sk-serial\"><div class=\"sk-item\"><div class=\"sk-estimator sk-toggleable\"><input class=\"sk-toggleable__control sk-hidden--visually\" id=\"sk-estimator-id-21\" type=\"checkbox\" ><label for=\"sk-estimator-id-21\" class=\"sk-toggleable__label sk-toggleable__label-arrow\">SelectKBest</label><div class=\"sk-toggleable__content\"><pre>SelectKBest(score_func=&lt;function mutual_info_classif at 0x7ad2715c4940&gt;)</pre></div></div></div><div class=\"sk-item\"><div class=\"sk-estimator sk-toggleable\"><input class=\"sk-toggleable__control sk-hidden--visually\" id=\"sk-estimator-id-22\" type=\"checkbox\" ><label for=\"sk-estimator-id-22\" class=\"sk-toggleable__label sk-toggleable__label-arrow\">DecisionTreeClassifier</label><div class=\"sk-toggleable__content\"><pre>DecisionTreeClassifier()</pre></div></div></div></div></div></div></div></div></div></div></div></div>"
            ],
            "text/plain": [
              "GridSearchCV(cv=5,\n",
              "             estimator=Pipeline(steps=[('selectkbest',\n",
              "                                        SelectKBest(score_func=<function mutual_info_classif at 0x7ad2715c4940>)),\n",
              "                                       ('decisiontreeclassifier',\n",
              "                                        DecisionTreeClassifier())]),\n",
              "             param_grid={'decisiontreeclassifier__criterion': ['gini',\n",
              "                                                               'entropy',\n",
              "                                                               'log_loss'],\n",
              "                         'decisiontreeclassifier__max_depth': array([ 1,  5,  9, 13, 17]),\n",
              "                         'selectkbest__k': array([ 6, 11, 16, 21, 26, 31, 36, 41, 46, 51, 56, 61, 66, 71, 76, 81])})"
            ]
          },
          "execution_count": 29,
          "metadata": {},
          "output_type": "execute_result"
        },
        {
          "name": "stdout",
          "output_type": "stream",
          "text": [
            "time: 1h 12min 9s (started: 2024-05-15 07:55:39 +00:00)\n"
          ]
        }
      ],
      "source": [
        "from sklearn.pipeline import make_pipeline\n",
        "from sklearn.feature_selection import SelectKBest, mutual_info_classif\n",
        "from sklearn.linear_model import SGDClassifier\n",
        "from sklearn.tree import DecisionTreeClassifier\n",
        "\n",
        "\n",
        "# Отбор признаков с помощью фильтрационных методов\n",
        "gs = GridSearchCV(\n",
        "    make_pipeline(\n",
        "        SelectKBest(score_func=mutual_info_classif),\n",
        "        DecisionTreeClassifier()\n",
        "    ),\n",
        "    cv=5,\n",
        "    param_grid={\n",
        "        'selectkbest__k': np.arange(6, X.shape[1], 5),\n",
        "        'decisiontreeclassifier__max_depth': np.arange(1, 20, 4),\n",
        "        'decisiontreeclassifier__criterion': ['gini', 'entropy', 'log_loss']\n",
        "    }\n",
        ")\n",
        "\n",
        "gs.fit(X, y)"
      ]
    },
    {
      "cell_type": "code",
      "execution_count": null,
      "metadata": {
        "colab": {
          "base_uri": "https://localhost:8080/"
        },
        "id": "hbXW5RzGCLKE",
        "outputId": "be920231-24cc-4fda-ffb4-dd6e21e0c0e9"
      },
      "outputs": [
        {
          "name": "stdout",
          "output_type": "stream",
          "text": [
            "{'selectkbest__k': 31, 'decisiontreeclassifier__criterion': 'entropy', 'decisiontreeclassifier__max_depth': 9}\n",
            "Model score: 0.8476575781987151\n",
            "time: 8.08 ms (started: 2024-05-15 09:07:48 +00:00)\n"
          ]
        }
      ],
      "source": [
        "print(dict((k, gs.best_estimator_.get_params()[k]) for k in ['selectkbest__k', 'decisiontreeclassifier__criterion', 'decisiontreeclassifier__max_depth']))\n",
        "print(f'Model score: {gs.best_score_}')"
      ]
    },
    {
      "cell_type": "markdown",
      "metadata": {
        "id": "ZdJDq-OWDbtV"
      },
      "source": [
        "#### Жадный отбор признаков (RFE)"
      ]
    },
    {
      "cell_type": "code",
      "execution_count": null,
      "metadata": {
        "colab": {
          "base_uri": "https://localhost:8080/",
          "height": 253
        },
        "id": "-V5qJgB_DgBP",
        "outputId": "69ff2b08-97f1-4696-ce00-1ac5728d4f9e"
      },
      "outputs": [
        {
          "data": {
            "text/html": [
              "<style>#sk-container-id-3 {color: black;background-color: white;}#sk-container-id-3 pre{padding: 0;}#sk-container-id-3 div.sk-toggleable {background-color: white;}#sk-container-id-3 label.sk-toggleable__label {cursor: pointer;display: block;width: 100%;margin-bottom: 0;padding: 0.3em;box-sizing: border-box;text-align: center;}#sk-container-id-3 label.sk-toggleable__label-arrow:before {content: \"▸\";float: left;margin-right: 0.25em;color: #696969;}#sk-container-id-3 label.sk-toggleable__label-arrow:hover:before {color: black;}#sk-container-id-3 div.sk-estimator:hover label.sk-toggleable__label-arrow:before {color: black;}#sk-container-id-3 div.sk-toggleable__content {max-height: 0;max-width: 0;overflow: hidden;text-align: left;background-color: #f0f8ff;}#sk-container-id-3 div.sk-toggleable__content pre {margin: 0.2em;color: black;border-radius: 0.25em;background-color: #f0f8ff;}#sk-container-id-3 input.sk-toggleable__control:checked~div.sk-toggleable__content {max-height: 200px;max-width: 100%;overflow: auto;}#sk-container-id-3 input.sk-toggleable__control:checked~label.sk-toggleable__label-arrow:before {content: \"▾\";}#sk-container-id-3 div.sk-estimator input.sk-toggleable__control:checked~label.sk-toggleable__label {background-color: #d4ebff;}#sk-container-id-3 div.sk-label input.sk-toggleable__control:checked~label.sk-toggleable__label {background-color: #d4ebff;}#sk-container-id-3 input.sk-hidden--visually {border: 0;clip: rect(1px 1px 1px 1px);clip: rect(1px, 1px, 1px, 1px);height: 1px;margin: -1px;overflow: hidden;padding: 0;position: absolute;width: 1px;}#sk-container-id-3 div.sk-estimator {font-family: monospace;background-color: #f0f8ff;border: 1px dotted black;border-radius: 0.25em;box-sizing: border-box;margin-bottom: 0.5em;}#sk-container-id-3 div.sk-estimator:hover {background-color: #d4ebff;}#sk-container-id-3 div.sk-parallel-item::after {content: \"\";width: 100%;border-bottom: 1px solid gray;flex-grow: 1;}#sk-container-id-3 div.sk-label:hover label.sk-toggleable__label {background-color: #d4ebff;}#sk-container-id-3 div.sk-serial::before {content: \"\";position: absolute;border-left: 1px solid gray;box-sizing: border-box;top: 0;bottom: 0;left: 50%;z-index: 0;}#sk-container-id-3 div.sk-serial {display: flex;flex-direction: column;align-items: center;background-color: white;padding-right: 0.2em;padding-left: 0.2em;position: relative;}#sk-container-id-3 div.sk-item {position: relative;z-index: 1;}#sk-container-id-3 div.sk-parallel {display: flex;align-items: stretch;justify-content: center;background-color: white;position: relative;}#sk-container-id-3 div.sk-item::before, #sk-container-id-3 div.sk-parallel-item::before {content: \"\";position: absolute;border-left: 1px solid gray;box-sizing: border-box;top: 0;bottom: 0;left: 50%;z-index: -1;}#sk-container-id-3 div.sk-parallel-item {display: flex;flex-direction: column;z-index: 1;position: relative;background-color: white;}#sk-container-id-3 div.sk-parallel-item:first-child::after {align-self: flex-end;width: 50%;}#sk-container-id-3 div.sk-parallel-item:last-child::after {align-self: flex-start;width: 50%;}#sk-container-id-3 div.sk-parallel-item:only-child::after {width: 0;}#sk-container-id-3 div.sk-dashed-wrapped {border: 1px dashed gray;margin: 0 0.4em 0.5em 0.4em;box-sizing: border-box;padding-bottom: 0.4em;background-color: white;}#sk-container-id-3 div.sk-label label {font-family: monospace;font-weight: bold;display: inline-block;line-height: 1.2em;}#sk-container-id-3 div.sk-label-container {text-align: center;}#sk-container-id-3 div.sk-container {/* jupyter's `normalize.less` sets `[hidden] { display: none; }` but bootstrap.min.css set `[hidden] { display: none !important; }` so we also need the `!important` here to be able to override the default hidden behavior on the sphinx rendered scikit-learn.org. See: https://github.com/scikit-learn/scikit-learn/issues/21755 */display: inline-block !important;position: relative;}#sk-container-id-3 div.sk-text-repr-fallback {display: none;}</style><div id=\"sk-container-id-3\" class=\"sk-top-container\"><div class=\"sk-text-repr-fallback\"><pre>GridSearchCV(cv=5,\n",
              "             estimator=Pipeline(steps=[(&#x27;rfe&#x27;,\n",
              "                                        RFE(estimator=LogisticRegression(max_iter=2000),\n",
              "                                            step=30)),\n",
              "                                       (&#x27;decisiontreeclassifier&#x27;,\n",
              "                                        DecisionTreeClassifier())]),\n",
              "             param_grid={&#x27;decisiontreeclassifier__criterion&#x27;: [&#x27;gini&#x27;,\n",
              "                                                               &#x27;entropy&#x27;,\n",
              "                                                               &#x27;log_loss&#x27;],\n",
              "                         &#x27;decisiontreeclassifier__max_depth&#x27;: array([ 1,  5,  9, 13, 17]),\n",
              "                         &#x27;rfe__n_features_to_select&#x27;: array([ 6, 11, 16, 21, 26, 31, 36, 41, 46, 51, 56, 61, 66, 71, 76, 81])})</pre><b>In a Jupyter environment, please rerun this cell to show the HTML representation or trust the notebook. <br />On GitHub, the HTML representation is unable to render, please try loading this page with nbviewer.org.</b></div><div class=\"sk-container\" hidden><div class=\"sk-item sk-dashed-wrapped\"><div class=\"sk-label-container\"><div class=\"sk-label sk-toggleable\"><input class=\"sk-toggleable__control sk-hidden--visually\" id=\"sk-estimator-id-13\" type=\"checkbox\" ><label for=\"sk-estimator-id-13\" class=\"sk-toggleable__label sk-toggleable__label-arrow\">GridSearchCV</label><div class=\"sk-toggleable__content\"><pre>GridSearchCV(cv=5,\n",
              "             estimator=Pipeline(steps=[(&#x27;rfe&#x27;,\n",
              "                                        RFE(estimator=LogisticRegression(max_iter=2000),\n",
              "                                            step=30)),\n",
              "                                       (&#x27;decisiontreeclassifier&#x27;,\n",
              "                                        DecisionTreeClassifier())]),\n",
              "             param_grid={&#x27;decisiontreeclassifier__criterion&#x27;: [&#x27;gini&#x27;,\n",
              "                                                               &#x27;entropy&#x27;,\n",
              "                                                               &#x27;log_loss&#x27;],\n",
              "                         &#x27;decisiontreeclassifier__max_depth&#x27;: array([ 1,  5,  9, 13, 17]),\n",
              "                         &#x27;rfe__n_features_to_select&#x27;: array([ 6, 11, 16, 21, 26, 31, 36, 41, 46, 51, 56, 61, 66, 71, 76, 81])})</pre></div></div></div><div class=\"sk-parallel\"><div class=\"sk-parallel-item\"><div class=\"sk-item\"><div class=\"sk-label-container\"><div class=\"sk-label sk-toggleable\"><input class=\"sk-toggleable__control sk-hidden--visually\" id=\"sk-estimator-id-14\" type=\"checkbox\" ><label for=\"sk-estimator-id-14\" class=\"sk-toggleable__label sk-toggleable__label-arrow\">estimator: Pipeline</label><div class=\"sk-toggleable__content\"><pre>Pipeline(steps=[(&#x27;rfe&#x27;,\n",
              "                 RFE(estimator=LogisticRegression(max_iter=2000), step=30)),\n",
              "                (&#x27;decisiontreeclassifier&#x27;, DecisionTreeClassifier())])</pre></div></div></div><div class=\"sk-serial\"><div class=\"sk-item\"><div class=\"sk-serial\"><div class=\"sk-item sk-dashed-wrapped\"><div class=\"sk-label-container\"><div class=\"sk-label sk-toggleable\"><input class=\"sk-toggleable__control sk-hidden--visually\" id=\"sk-estimator-id-15\" type=\"checkbox\" ><label for=\"sk-estimator-id-15\" class=\"sk-toggleable__label sk-toggleable__label-arrow\">rfe: RFE</label><div class=\"sk-toggleable__content\"><pre>RFE(estimator=LogisticRegression(max_iter=2000), step=30)</pre></div></div></div><div class=\"sk-parallel\"><div class=\"sk-parallel-item\"><div class=\"sk-item\"><div class=\"sk-label-container\"><div class=\"sk-label sk-toggleable\"><input class=\"sk-toggleable__control sk-hidden--visually\" id=\"sk-estimator-id-16\" type=\"checkbox\" ><label for=\"sk-estimator-id-16\" class=\"sk-toggleable__label sk-toggleable__label-arrow\">estimator: LogisticRegression</label><div class=\"sk-toggleable__content\"><pre>LogisticRegression(max_iter=2000)</pre></div></div></div><div class=\"sk-serial\"><div class=\"sk-item\"><div class=\"sk-estimator sk-toggleable\"><input class=\"sk-toggleable__control sk-hidden--visually\" id=\"sk-estimator-id-17\" type=\"checkbox\" ><label for=\"sk-estimator-id-17\" class=\"sk-toggleable__label sk-toggleable__label-arrow\">LogisticRegression</label><div class=\"sk-toggleable__content\"><pre>LogisticRegression(max_iter=2000)</pre></div></div></div></div></div></div></div></div><div class=\"sk-item\"><div class=\"sk-estimator sk-toggleable\"><input class=\"sk-toggleable__control sk-hidden--visually\" id=\"sk-estimator-id-18\" type=\"checkbox\" ><label for=\"sk-estimator-id-18\" class=\"sk-toggleable__label sk-toggleable__label-arrow\">DecisionTreeClassifier</label><div class=\"sk-toggleable__content\"><pre>DecisionTreeClassifier()</pre></div></div></div></div></div></div></div></div></div></div></div></div>"
            ],
            "text/plain": [
              "GridSearchCV(cv=5,\n",
              "             estimator=Pipeline(steps=[('rfe',\n",
              "                                        RFE(estimator=LogisticRegression(max_iter=2000),\n",
              "                                            step=30)),\n",
              "                                       ('decisiontreeclassifier',\n",
              "                                        DecisionTreeClassifier())]),\n",
              "             param_grid={'decisiontreeclassifier__criterion': ['gini',\n",
              "                                                               'entropy',\n",
              "                                                               'log_loss'],\n",
              "                         'decisiontreeclassifier__max_depth': array([ 1,  5,  9, 13, 17]),\n",
              "                         'rfe__n_features_to_select': array([ 6, 11, 16, 21, 26, 31, 36, 41, 46, 51, 56, 61, 66, 71, 76, 81])})"
            ]
          },
          "execution_count": 27,
          "metadata": {},
          "output_type": "execute_result"
        },
        {
          "name": "stdout",
          "output_type": "stream",
          "text": [
            "time: 10min 46s (started: 2024-05-15 07:29:49 +00:00)\n"
          ]
        }
      ],
      "source": [
        "from sklearn.pipeline import make_pipeline\n",
        "from sklearn.feature_selection import RFE\n",
        "from sklearn.linear_model import SGDClassifier, LogisticRegression\n",
        "from sklearn.tree import DecisionTreeClassifier\n",
        "from sklearn.model_selection import GridSearchCV\n",
        "\n",
        "\n",
        "# Отбор признаков с помощью RFE\n",
        "gs = GridSearchCV(\n",
        "    make_pipeline(\n",
        "        RFE(LogisticRegression(max_iter=2000), step=30),\n",
        "        DecisionTreeClassifier()\n",
        "    ),\n",
        "    cv=5,\n",
        "    param_grid={\n",
        "        'rfe__n_features_to_select': np.arange(6, X.shape[1], 5),\n",
        "        'decisiontreeclassifier__max_depth': np.arange(1, 20, 4),\n",
        "        'decisiontreeclassifier__criterion': ['gini', 'entropy', 'log_loss']\n",
        "    }\n",
        ")\n",
        "\n",
        "gs.fit(X, y)"
      ]
    },
    {
      "cell_type": "code",
      "execution_count": null,
      "metadata": {
        "colab": {
          "base_uri": "https://localhost:8080/"
        },
        "id": "2nGY2u7dENRa",
        "outputId": "5cab4610-14f3-4b9a-f083-72ffd5483cc0"
      },
      "outputs": [
        {
          "name": "stdout",
          "output_type": "stream",
          "text": [
            "{'rfe__n_features_to_select': 76, 'decisiontreeclassifier__criterion': 'log_loss', 'decisiontreeclassifier__max_depth': 9}\n",
            "Model score: 0.8456375884515005\n",
            "time: 2.98 ms (started: 2024-05-15 07:40:36 +00:00)\n"
          ]
        }
      ],
      "source": [
        "print(dict((k, gs.best_estimator_.get_params()[k]) for k in ['rfe__n_features_to_select', 'decisiontreeclassifier__criterion', 'decisiontreeclassifier__max_depth']))\n",
        "print(f'Model score: {gs.best_score_}')"
      ]
    },
    {
      "cell_type": "markdown",
      "metadata": {
        "id": "jQl2Jg4QHa-K"
      },
      "source": [
        "#### Встроенный метод отбора признаков"
      ]
    },
    {
      "cell_type": "code",
      "execution_count": null,
      "metadata": {
        "id": "LNd_yLUAHgsO"
      },
      "outputs": [],
      "source": [
        "from sklearn.pipeline import make_pipeline\n",
        "from sklearn.feature_selection import SelectFromModel\n",
        "from sklearn.linear_model import SGDClassifier, LogisticRegression\n",
        "from sklearn.tree import DecisionTreeClassifier\n",
        "\n",
        "\n",
        "# Отбор признаков с помощью встроенного метода\n",
        "gs = GridSearchCV(\n",
        "    make_pipeline(\n",
        "        SelectFromModel(LogisticRegression(penalty='l1', max_iter=1000, solver='liblinear')),\n",
        "        DecisionTreeClassifier()\n",
        "    ),\n",
        "    cv=5,\n",
        "    param_grid={\n",
        "        'selectfrommodel__threshold': [1e-5, 1e-4, 1e-3, 1e-2, 1e-1],\n",
        "        'decisiontreeclassifier__max_depth': np.arange(1, 20, 4),\n",
        "        'decisiontreeclassifier__criterion': ['gini', 'entropy', 'log_loss']\n",
        "    }\n",
        ")\n",
        "\n",
        "gs.fit(df_poly, y)"
      ]
    },
    {
      "cell_type": "code",
      "execution_count": null,
      "metadata": {
        "id": "PVkG6SiMJt_X"
      },
      "outputs": [],
      "source": [
        "print(dict((k, gs.best_estimator_.get_params()[k]) for k in ['selectfrommodel__threshold', 'decisiontreeclassifier__criterion', 'decisiontreeclassifier__max_depth']))\n",
        "print(f'Model score: {gs.best_score_}')"
      ]
    },
    {
      "cell_type": "markdown",
      "metadata": {
        "id": "7XQbItlcPv01"
      },
      "source": [
        "## Смешивание моделей\n",
        "\n",
        "Во всех предыдущих пунктах мы получили много сильных моделей, которые могут быть достаточно разными по своей природе (например, метод ближайших соседей и случайный лес). Часто на практике оказывается возможным увеличить качество предсказания путем смешивания подобных разных моделей. Давайте посмотрим, действительно ли это дает прирост в качестве.\n",
        "\n",
        "Выберите из построенных моделей двух предыдущих пунктов две, которые дали наибольшее начество на кросс-валидации (обозначим их $clf_1$ и $clf_2$). Далее постройте новый классификатор, ответ которого на некотором объекте $x$ будет выглядеть следующим образом:\n",
        "\n",
        "$$result(x) = clf_1(x) \\cdot \\alpha + clf_2(x) \\cdot (1 - \\alpha)$$\n",
        "\n",
        "где $\\alpha$ — гиперпараметр нового классификатора.\n",
        "\n",
        "**Задание 12** Подберите по сетке от 0 до 1 $\\alpha$ для этого классификатора с помощью 5-Fold CV и постройте график качества в зависимости от $\\alpha$ (аналогичный графику в разделе \"Обучение классификаторов и оценка качества\"). Дал ли этот подход прирост к качеству по сравнению с моделями ранее?"
      ]
    },
    {
      "cell_type": "code",
      "source": [
        "from sklearn.ensemble import RandomForestClassifier\n",
        "from sklearn.ensemble import GradientBoostingClassifier\n",
        "from sklearn.model_selection import KFold\n",
        "from sklearn.metrics import roc_auc_score\n",
        "from collections import defaultdict\n",
        "\n",
        "\n",
        "models_scores = defaultdict(list)\n",
        "\n",
        "for alpha in np.arange(0, 1, 0.1):\n",
        "    kf = KFold(n_splits=5, shuffle=True, random_state=SEED)\n",
        "    for i, (train_idx, test_idx) in enumerate(kf.split(X, y)):\n",
        "        model1 = GradientBoostingClassifier(n_estimators=827, max_features=4, criterion='squared_error')\n",
        "        model2 = RandomForestClassifier(n_estimators=125, max_features=1, criterion='gini')\n",
        "        models = [model1, model2]\n",
        "\n",
        "        ensemble_preds = []\n",
        "        for model in models:\n",
        "            model.fit(X.iloc[train_idx], y.iloc[train_idx])\n",
        "            ensemble_preds.append(model.predict(X.iloc[test_idx]))\n",
        "\n",
        "        fold_preds = alpha * ensemble_preds[0] + (1-alpha) * ensemble_preds[1]\n",
        "        fold_score = roc_auc_score(y.iloc[test_idx], fold_preds)\n",
        "        models_scores[alpha].append(fold_score)\n",
        "\n",
        "    print(f'Fitted for apha={round(alpha, 1)}')"
      ],
      "metadata": {
        "colab": {
          "base_uri": "https://localhost:8080/"
        },
        "id": "5QFaZz2JPHC9",
        "outputId": "96abca95-68d3-4f42-cb50-90f34773a5a5"
      },
      "execution_count": 29,
      "outputs": [
        {
          "output_type": "stream",
          "name": "stdout",
          "text": [
            "Fitted for apha=0.0\n",
            "Fitted for apha=0.1\n",
            "Fitted for apha=0.2\n",
            "Fitted for apha=0.3\n",
            "Fitted for apha=0.4\n",
            "Fitted for apha=0.5\n",
            "Fitted for apha=0.6\n",
            "Fitted for apha=0.7\n",
            "Fitted for apha=0.8\n",
            "Fitted for apha=0.9\n",
            "time: 4min 29s (started: 2024-05-15 17:38:50 +00:00)\n"
          ]
        }
      ]
    },
    {
      "cell_type": "code",
      "source": [
        "x_alpha = [round(k, 1) for k in models_scores.keys()]\n",
        "y_score = [np.array(v).mean() for v in models_scores.values()]\n",
        "plt.plot(x_alpha, y_score);\n",
        "plt.axvline(x_alpha[np.argmax(y_score)], color='black', linestyle='--');"
      ],
      "metadata": {
        "colab": {
          "base_uri": "https://localhost:8080/",
          "height": 467
        },
        "id": "kmjPVkKSTiWa",
        "outputId": "8868b0c5-5c5f-4d50-e15e-0d3054ab27db"
      },
      "execution_count": 34,
      "outputs": [
        {
          "output_type": "display_data",
          "data": {
            "text/plain": [
              "<Figure size 640x480 with 1 Axes>"
            ],
            "image/png": "[encoded data removed]"
          },
          "metadata": {}
        },
        {
          "output_type": "stream",
          "name": "stdout",
          "text": [
            "time: 244 ms (started: 2024-05-15 17:46:44 +00:00)\n"
          ]
        }
      ]
    },
    {
      "cell_type": "code",
      "source": [
        "np.max(y_score)"
      ],
      "metadata": {
        "colab": {
          "base_uri": "https://localhost:8080/"
        },
        "id": "TlkE5iqUZsVx",
        "outputId": "5cec14be-e737-4157-da5d-9d7926aecf51"
      },
      "execution_count": 35,
      "outputs": [
        {
          "output_type": "execute_result",
          "data": {
            "text/plain": [
              "0.8115085552861319"
            ]
          },
          "metadata": {},
          "execution_count": 35
        },
        {
          "output_type": "stream",
          "name": "stdout",
          "text": [
            "time: 5.28 ms (started: 2024-05-15 17:57:26 +00:00)\n"
          ]
        }
      ]
    },
    {
      "cell_type": "markdown",
      "source": [
        "Максимальный скор достигается при alpha=0.7, но смешанная модель хуже, чем обычная"
      ],
      "metadata": {
        "id": "eldqJmN_U-Jr"
      }
    },
    {
      "cell_type": "markdown",
      "metadata": {
        "id": "AixBs40IPv01"
      },
      "source": [
        "## Сравнение построенных моделей\n",
        "\n",
        "![](http://cdn.shopify.com/s/files/1/0870/1066/files/compare_e8b89647-3cb6-4871-a976-2e36e5987773.png?1750043340268621065)\n",
        "\n",
        "После того как было построено много моделей хотелось бы сравнить их между собой. Для этого можно построить \"ящик с усами\" (диаграму размаха). Для этого можно воспользоваться библиотекой [matplotlib](https://matplotlib.org/3.1.0/api/_as_gen/matplotlib.pyplot.boxplot.html) или [seaborn](https://seaborn.pydata.org/generated/seaborn.boxplot.html).\n",
        "\n",
        "**Задание 13** Для каждого типа классификатора (kNN, DecisionTree, RandomForest, SGD classifier), а так же смешанной модели выберите тот, которых давал наилучшее качество на кросс-валидации (с учетом подобранных гиперпараметров) и постройте диаграмму размаха (все классификаторы должны быть изображены на одном графике).\n",
        "\n",
        "Сделайте общие итоговые выводы о классификаторах с точки зрения их работы с признаками и сложности самой модели (какие гиперпараметры есть у модели, сильно ли изменение значения гиперпараметра влияет на качество модели)."
      ]
    },
    {
      "cell_type": "code",
      "source": [
        "# ранее по коду отдельно сохранили этот набор колонок\n",
        "df_best_colsample = df_best_colsample"
      ],
      "metadata": {
        "colab": {
          "base_uri": "https://localhost:8080/"
        },
        "id": "NwXg46q7orjZ",
        "outputId": "197bd1b2-00c4-4ef3-ac12-fb6ab0fa17db"
      },
      "execution_count": 9,
      "outputs": [
        {
          "output_type": "stream",
          "name": "stdout",
          "text": [
            "time: 548 µs (started: 2024-05-15 19:06:20 +00:00)\n"
          ]
        }
      ]
    },
    {
      "cell_type": "code",
      "source": [
        "from sklearn.model_selection import cross_val_score\n",
        "\n",
        "\n",
        "def cross_eval_scores(X, y, model_class, model_params):\n",
        "    model = model_class(**model_params)\n",
        "    scores = cross_val_score(model, X, y, scoring='roc_auc', cv=5)\n",
        "    return scores"
      ],
      "metadata": {
        "colab": {
          "base_uri": "https://localhost:8080/"
        },
        "id": "gFOcoKl1nKCC",
        "outputId": "b07e1983-f2c1-4425-9739-176ba2300ec6"
      },
      "execution_count": 14,
      "outputs": [
        {
          "output_type": "stream",
          "name": "stdout",
          "text": [
            "time: 827 µs (started: 2024-05-15 19:17:51 +00:00)\n"
          ]
        }
      ]
    },
    {
      "cell_type": "code",
      "source": [
        "from sklearn.ensemble import RandomForestClassifier, GradientBoostingClassifier\n",
        "from sklearn.linear_model import SGDClassifier\n",
        "from sklearn.tree import DecisionTreeClassifier\n",
        "from sklearn.neighbors import KNeighborsClassifier\n",
        "\n",
        "\n",
        "knn_params = params = {\n",
        "    'n_neighbors': 5,\n",
        "    'metric': 'cosine'\n",
        "}\n",
        "dt_params = params = {\n",
        "    'max_depth': 9,\n",
        "    'criterion': 'gini'\n",
        "}\n",
        "rf_params = {\n",
        "    'n_estimators': 125,\n",
        "    'max_features': 1,\n",
        "    'criterion': 'gini'\n",
        "}\n",
        "sgd_params = {\n",
        "    'loss': 'modified_huber',\n",
        "    'penalty': 'l2'\n",
        "}\n",
        "gb_params = {\n",
        "    'n_estimators': 827,\n",
        "    'max_features': 4,\n",
        "    'criterion': 'squared_error'\n",
        "}\n",
        "\n",
        "knn_scores = cross_eval_scores(df_best_colsample, y, KNeighborsClassifier, knn_params)\n",
        "dt_scores = cross_eval_scores(df_best_colsample, y, DecisionTreeClassifier, dt_params)\n",
        "rf_scores = cross_eval_scores(df_best_colsample, y, RandomForestClassifier, rf_params)\n",
        "sgd_scores = cross_eval_scores(df_best_colsample, y, SGDClassifier, sgd_params)\n",
        "gb_scores = cross_eval_scores(df_best_colsample, y, GradientBoostingClassifier, gb_params)"
      ],
      "metadata": {
        "colab": {
          "base_uri": "https://localhost:8080/"
        },
        "id": "Gobl-McxaHMO",
        "outputId": "22781814-d07f-49ed-bbda-5a99bfa7403e"
      },
      "execution_count": 18,
      "outputs": [
        {
          "output_type": "stream",
          "name": "stdout",
          "text": [
            "time: 29.5 s (started: 2024-05-15 19:19:12 +00:00)\n"
          ]
        }
      ]
    },
    {
      "cell_type": "code",
      "source": [
        "from sklearn.model_selection import KFold\n",
        "from sklearn.metrics import roc_auc_score\n",
        "from collections import defaultdict\n",
        "\n",
        "\n",
        "alpha = 0.7\n",
        "ens_scores = []\n",
        "\n",
        "kf = KFold(n_splits=5, shuffle=True, random_state=SEED)\n",
        "for i, (train_idx, test_idx) in enumerate(kf.split(df_best_colsample, y)):\n",
        "    model1 = GradientBoostingClassifier(**gb_params)\n",
        "    model2 = RandomForestClassifier(**rf_params)\n",
        "    models = [model1, model2]\n",
        "\n",
        "    ensemble_preds = []\n",
        "    for model in models:\n",
        "        model.fit(df_best_colsample.iloc[train_idx], y.iloc[train_idx])\n",
        "        ensemble_preds.append(model.predict(df_best_colsample.iloc[test_idx]))\n",
        "\n",
        "    fold_preds = alpha * ensemble_preds[0] + (1-alpha) * ensemble_preds[1]\n",
        "    ens_scores.append(roc_auc_score(y.iloc[test_idx], fold_preds))"
      ],
      "metadata": {
        "colab": {
          "base_uri": "https://localhost:8080/"
        },
        "id": "EKcwzluSszOJ",
        "outputId": "c381cceb-14ad-4ecc-a587-e01df96be65a"
      },
      "execution_count": 25,
      "outputs": [
        {
          "output_type": "stream",
          "name": "stdout",
          "text": [
            "time: 24.3 s (started: 2024-05-15 19:29:43 +00:00)\n"
          ]
        }
      ]
    },
    {
      "cell_type": "code",
      "source": [
        "import seaborn as sns\n",
        "\n",
        "plot_data = {\n",
        "    'KNN': knn_scores,\n",
        "    'Decision Tree': dt_scores,\n",
        "    'Random Forest': rf_scores,\n",
        "    'SGD Classifier': sgd_scores,\n",
        "    'Gradient Boosting': gb_scores,\n",
        "    'Ensemble': ens_scores\n",
        "}\n",
        "\n",
        "df_scores = pd.DataFrame(plot_data)\n",
        "\n",
        "df_melted = df_scores.melt(var_name='Model', value_name='Score')\n",
        "\n",
        "plt.figure(figsize=(10, 6))\n",
        "sns.boxplot(x='Model', y='Score', data=df_melted)\n",
        "plt.title('Cross-Validation Scores')\n",
        "plt.xlabel('Model')\n",
        "plt.ylabel('Cross-Validation Score')\n",
        "plt.xticks(rotation=45)\n",
        "plt.show()"
      ],
      "metadata": {
        "colab": {
          "base_uri": "https://localhost:8080/",
          "height": 686
        },
        "id": "r__UpxhKv8Br",
        "outputId": "1d3dbd3e-40fe-46fd-da4a-373908d0f5cf"
      },
      "execution_count": 31,
      "outputs": [
        {
          "output_type": "display_data",
          "data": {
            "text/plain": [
              "<Figure size 1000x600 with 1 Axes>"
            ],
            "image/png": "[encoded data removed]"
          },
          "metadata": {}
        },
        {
          "output_type": "stream",
          "name": "stdout",
          "text": [
            "time: 233 ms (started: 2024-05-15 19:35:37 +00:00)\n"
          ]
        }
      ]
    },
    {
      "cell_type": "markdown",
      "source": [
        "Все модели лучше всего показали себя с бинарными фичами. При добавлении полиномиальных фичей и отборе самых значимых, модели стали чуть хуже (даже KNN, который страдает от высоких размерностей), что говорит о том, что отбор признаков в первую очред нужен для ускорения тренировки и интепретируемости.\n",
        "\n",
        "Gradient Boosting показал себя лучше всего почти во всех задачах, как самая продвинутая и адаптирующаяся модель.\n",
        "\n",
        "Подбор гиперпараметров помог улучшить скоры во всех моделях (в сравнении с самой базовой версией). Подбор количества фичей сильно замедляет время тренировки модели, особенно в случае со встроенным и жадным методами отбора признаков, добавляя ко времени каждой итерации подбора существенную константу. Для остальных гиперпараметро можно сказать, что время растет строго пропорционально количеству элементов в решетке гиперпараметров, что говорит о том что на практике поиск гиперпараметров по сетке имеет смысл только для очень маленького количества признаков."
      ],
      "metadata": {
        "id": "v5Jeo1tDwUzQ"
      }
    }
  ],
  "metadata": {
    "colab": {
      "provenance": [],
      "gpuType": "T4"
    },
    "kernelspec": {
      "display_name": "Python 3",
      "name": "python3"
    },
    "language_info": {
      "codemirror_mode": {
        "name": "ipython",
        "version": 3
      },
      "file_extension": ".py",
      "mimetype": "text/x-python",
      "name": "python",
      "nbconvert_exporter": "python",
      "pygments_lexer": "ipython3",
      "version": "3.7.6"
    },
    "accelerator": "GPU"
  },
  "nbformat": 4,
  "nbformat_minor": 0
}